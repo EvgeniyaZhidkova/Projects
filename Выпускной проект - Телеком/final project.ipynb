{
 "cells": [
  {
   "cell_type": "markdown",
   "metadata": {},
   "source": [
    "# Телеком — задача проекта"
   ]
  },
  {
   "cell_type": "markdown",
   "metadata": {},
   "source": [
    "Оператор связи «Ниединогоразрыва.ком» хочет научиться прогнозировать отток клиентов. Если выяснится, что пользователь планирует уйти, ему будут предложены промокоды и специальные условия. Команда оператора собрала персональные данные о некоторых клиентах, информацию об их тарифах и договорах."
   ]
  },
  {
   "cell_type": "markdown",
   "metadata": {},
   "source": [
    "# Описание услуг"
   ]
  },
  {
   "cell_type": "markdown",
   "metadata": {},
   "source": [
    "Оператор предоставляет два основных типа услуг: \n",
    "\n",
    "1. Стационарную телефонную связь. Возможно подключение телефонного аппарата к нескольким линиям одновременно.\n",
    "2. Интернет. Подключение может быть двух типов: через телефонную линию (DSL*,* от англ. *digital subscriber line*, «цифровая абонентская линия») или оптоволоконный кабель (*Fiber optic*).  \n",
    "\n",
    "Также доступны такие услуги:\n",
    "\n",
    "- Интернет-безопасность: антивирус (*DeviceProtection*) и блокировка небезопасных сайтов (*OnlineSecurity*);\n",
    "- Выделенная линия технической поддержки (*TechSupport*);\n",
    "- Облачное хранилище файлов для резервного копирования данных (*OnlineBackup*);\n",
    "- Стриминговое телевидение (*StreamingTV*) и каталог фильмов (*StreamingMovies*).\n",
    "\n",
    "За услуги клиенты могут платить каждый месяц или заключить договор на 1–2 года. Доступны различные способы расчёта и возможность получения электронного чека."
   ]
  },
  {
   "cell_type": "markdown",
   "metadata": {},
   "source": [
    "# Описание данных\n",
    "\n",
    "Данные состоят из файлов, полученных из разных источников:\n",
    "\n",
    "- `contract.csv` — информация о договоре;\n",
    "- `personal.csv` — персональные данные клиента;\n",
    "- `internet.csv` — информация об интернет-услугах;\n",
    "- `phone.csv` — информация об услугах телефонии.\n",
    "\n",
    "Во всех файлах столбец `customerID` содержит код клиента.\n",
    "\n",
    "Информация о договорах актуальна на 1 февраля 2020."
   ]
  },
  {
   "cell_type": "markdown",
   "metadata": {},
   "source": [
    "# План работы:\n",
    "1. Загрузка данных и первичных осмотр\n",
    "2. Предобработка данных: слияние таблиц, приведение к нужному типу данных, работа с пропусками и дубликатами\n",
    "3. Разделение датасета на тренировочную и тестовую часть, выделение целевого признака\n",
    "4. Обучение различных моделей и проверка на тестовой выборке\n",
    "5. Сравнение метрик и выбор оптимальной модели"
   ]
  },
  {
   "cell_type": "markdown",
   "metadata": {},
   "source": [
    "## Загрузка и первичный осмотр данных"
   ]
  },
  {
   "cell_type": "code",
   "execution_count": 1,
   "metadata": {},
   "outputs": [],
   "source": [
    "#импорт необходимых библиотек\n",
    "import pandas as pd\n",
    "import matplotlib.pyplot as plt\n",
    "\n",
    "from sklearn.preprocessing import OrdinalEncoder\n",
    "from sklearn.model_selection import train_test_split\n",
    "from sklearn.preprocessing import StandardScaler\n",
    "from sklearn.metrics import accuracy_score\n",
    "from sklearn.metrics import roc_auc_score\n",
    "from sklearn.metrics import roc_curve\n",
    "\n",
    "from sklearn.tree import DecisionTreeClassifier\n",
    "from sklearn.ensemble import RandomForestClassifier\n",
    "from sklearn.linear_model import LogisticRegression\n",
    "from catboost import CatBoostClassifier"
   ]
  },
  {
   "cell_type": "code",
   "execution_count": 2,
   "metadata": {
    "scrolled": false
   },
   "outputs": [
    {
     "data": {
      "text/html": [
       "<div>\n",
       "<style scoped>\n",
       "    .dataframe tbody tr th:only-of-type {\n",
       "        vertical-align: middle;\n",
       "    }\n",
       "\n",
       "    .dataframe tbody tr th {\n",
       "        vertical-align: top;\n",
       "    }\n",
       "\n",
       "    .dataframe thead th {\n",
       "        text-align: right;\n",
       "    }\n",
       "</style>\n",
       "<table border=\"1\" class=\"dataframe\">\n",
       "  <thead>\n",
       "    <tr style=\"text-align: right;\">\n",
       "      <th></th>\n",
       "      <th>customerID</th>\n",
       "      <th>BeginDate</th>\n",
       "      <th>EndDate</th>\n",
       "      <th>Type</th>\n",
       "      <th>PaperlessBilling</th>\n",
       "      <th>PaymentMethod</th>\n",
       "      <th>MonthlyCharges</th>\n",
       "      <th>TotalCharges</th>\n",
       "    </tr>\n",
       "  </thead>\n",
       "  <tbody>\n",
       "    <tr>\n",
       "      <th>0</th>\n",
       "      <td>7590-VHVEG</td>\n",
       "      <td>2020-01-01</td>\n",
       "      <td>No</td>\n",
       "      <td>Month-to-month</td>\n",
       "      <td>Yes</td>\n",
       "      <td>Electronic check</td>\n",
       "      <td>29.85</td>\n",
       "      <td>29.85</td>\n",
       "    </tr>\n",
       "    <tr>\n",
       "      <th>1</th>\n",
       "      <td>5575-GNVDE</td>\n",
       "      <td>2017-04-01</td>\n",
       "      <td>No</td>\n",
       "      <td>One year</td>\n",
       "      <td>No</td>\n",
       "      <td>Mailed check</td>\n",
       "      <td>56.95</td>\n",
       "      <td>1889.5</td>\n",
       "    </tr>\n",
       "    <tr>\n",
       "      <th>2</th>\n",
       "      <td>3668-QPYBK</td>\n",
       "      <td>2019-10-01</td>\n",
       "      <td>2019-12-01 00:00:00</td>\n",
       "      <td>Month-to-month</td>\n",
       "      <td>Yes</td>\n",
       "      <td>Mailed check</td>\n",
       "      <td>53.85</td>\n",
       "      <td>108.15</td>\n",
       "    </tr>\n",
       "    <tr>\n",
       "      <th>3</th>\n",
       "      <td>7795-CFOCW</td>\n",
       "      <td>2016-05-01</td>\n",
       "      <td>No</td>\n",
       "      <td>One year</td>\n",
       "      <td>No</td>\n",
       "      <td>Bank transfer (automatic)</td>\n",
       "      <td>42.30</td>\n",
       "      <td>1840.75</td>\n",
       "    </tr>\n",
       "    <tr>\n",
       "      <th>4</th>\n",
       "      <td>9237-HQITU</td>\n",
       "      <td>2019-09-01</td>\n",
       "      <td>2019-11-01 00:00:00</td>\n",
       "      <td>Month-to-month</td>\n",
       "      <td>Yes</td>\n",
       "      <td>Electronic check</td>\n",
       "      <td>70.70</td>\n",
       "      <td>151.65</td>\n",
       "    </tr>\n",
       "  </tbody>\n",
       "</table>\n",
       "</div>"
      ],
      "text/plain": [
       "   customerID   BeginDate              EndDate            Type  \\\n",
       "0  7590-VHVEG  2020-01-01                   No  Month-to-month   \n",
       "1  5575-GNVDE  2017-04-01                   No        One year   \n",
       "2  3668-QPYBK  2019-10-01  2019-12-01 00:00:00  Month-to-month   \n",
       "3  7795-CFOCW  2016-05-01                   No        One year   \n",
       "4  9237-HQITU  2019-09-01  2019-11-01 00:00:00  Month-to-month   \n",
       "\n",
       "  PaperlessBilling              PaymentMethod  MonthlyCharges TotalCharges  \n",
       "0              Yes           Electronic check           29.85        29.85  \n",
       "1               No               Mailed check           56.95       1889.5  \n",
       "2              Yes               Mailed check           53.85       108.15  \n",
       "3               No  Bank transfer (automatic)           42.30      1840.75  \n",
       "4              Yes           Electronic check           70.70       151.65  "
      ]
     },
     "metadata": {},
     "output_type": "display_data"
    },
    {
     "name": "stdout",
     "output_type": "stream",
     "text": [
      "<class 'pandas.core.frame.DataFrame'>\n",
      "RangeIndex: 7043 entries, 0 to 7042\n",
      "Data columns (total 8 columns):\n",
      " #   Column            Non-Null Count  Dtype  \n",
      "---  ------            --------------  -----  \n",
      " 0   customerID        7043 non-null   object \n",
      " 1   BeginDate         7043 non-null   object \n",
      " 2   EndDate           7043 non-null   object \n",
      " 3   Type              7043 non-null   object \n",
      " 4   PaperlessBilling  7043 non-null   object \n",
      " 5   PaymentMethod     7043 non-null   object \n",
      " 6   MonthlyCharges    7043 non-null   float64\n",
      " 7   TotalCharges      7043 non-null   object \n",
      "dtypes: float64(1), object(7)\n",
      "memory usage: 440.3+ KB\n"
     ]
    }
   ],
   "source": [
    "#файл с информацией о договоре\n",
    "\n",
    "contract = pd.read_csv('/datasets/final_provider/contract.csv')\n",
    "display(contract.head())\n",
    "contract.info()"
   ]
  },
  {
   "cell_type": "code",
   "execution_count": 3,
   "metadata": {},
   "outputs": [
    {
     "data": {
      "text/html": [
       "<div>\n",
       "<style scoped>\n",
       "    .dataframe tbody tr th:only-of-type {\n",
       "        vertical-align: middle;\n",
       "    }\n",
       "\n",
       "    .dataframe tbody tr th {\n",
       "        vertical-align: top;\n",
       "    }\n",
       "\n",
       "    .dataframe thead th {\n",
       "        text-align: right;\n",
       "    }\n",
       "</style>\n",
       "<table border=\"1\" class=\"dataframe\">\n",
       "  <thead>\n",
       "    <tr style=\"text-align: right;\">\n",
       "      <th></th>\n",
       "      <th>customerID</th>\n",
       "      <th>gender</th>\n",
       "      <th>SeniorCitizen</th>\n",
       "      <th>Partner</th>\n",
       "      <th>Dependents</th>\n",
       "    </tr>\n",
       "  </thead>\n",
       "  <tbody>\n",
       "    <tr>\n",
       "      <th>0</th>\n",
       "      <td>7590-VHVEG</td>\n",
       "      <td>Female</td>\n",
       "      <td>0</td>\n",
       "      <td>Yes</td>\n",
       "      <td>No</td>\n",
       "    </tr>\n",
       "    <tr>\n",
       "      <th>1</th>\n",
       "      <td>5575-GNVDE</td>\n",
       "      <td>Male</td>\n",
       "      <td>0</td>\n",
       "      <td>No</td>\n",
       "      <td>No</td>\n",
       "    </tr>\n",
       "    <tr>\n",
       "      <th>2</th>\n",
       "      <td>3668-QPYBK</td>\n",
       "      <td>Male</td>\n",
       "      <td>0</td>\n",
       "      <td>No</td>\n",
       "      <td>No</td>\n",
       "    </tr>\n",
       "    <tr>\n",
       "      <th>3</th>\n",
       "      <td>7795-CFOCW</td>\n",
       "      <td>Male</td>\n",
       "      <td>0</td>\n",
       "      <td>No</td>\n",
       "      <td>No</td>\n",
       "    </tr>\n",
       "    <tr>\n",
       "      <th>4</th>\n",
       "      <td>9237-HQITU</td>\n",
       "      <td>Female</td>\n",
       "      <td>0</td>\n",
       "      <td>No</td>\n",
       "      <td>No</td>\n",
       "    </tr>\n",
       "  </tbody>\n",
       "</table>\n",
       "</div>"
      ],
      "text/plain": [
       "   customerID  gender  SeniorCitizen Partner Dependents\n",
       "0  7590-VHVEG  Female              0     Yes         No\n",
       "1  5575-GNVDE    Male              0      No         No\n",
       "2  3668-QPYBK    Male              0      No         No\n",
       "3  7795-CFOCW    Male              0      No         No\n",
       "4  9237-HQITU  Female              0      No         No"
      ]
     },
     "metadata": {},
     "output_type": "display_data"
    },
    {
     "name": "stdout",
     "output_type": "stream",
     "text": [
      "<class 'pandas.core.frame.DataFrame'>\n",
      "RangeIndex: 7043 entries, 0 to 7042\n",
      "Data columns (total 5 columns):\n",
      " #   Column         Non-Null Count  Dtype \n",
      "---  ------         --------------  ----- \n",
      " 0   customerID     7043 non-null   object\n",
      " 1   gender         7043 non-null   object\n",
      " 2   SeniorCitizen  7043 non-null   int64 \n",
      " 3   Partner        7043 non-null   object\n",
      " 4   Dependents     7043 non-null   object\n",
      "dtypes: int64(1), object(4)\n",
      "memory usage: 275.2+ KB\n"
     ]
    }
   ],
   "source": [
    "#файл с информацией о персональных данных клиента\n",
    "\n",
    "personal = pd.read_csv('/datasets/final_provider/personal.csv')\n",
    "display(personal.head())\n",
    "personal.info()"
   ]
  },
  {
   "cell_type": "code",
   "execution_count": 4,
   "metadata": {},
   "outputs": [
    {
     "data": {
      "text/html": [
       "<div>\n",
       "<style scoped>\n",
       "    .dataframe tbody tr th:only-of-type {\n",
       "        vertical-align: middle;\n",
       "    }\n",
       "\n",
       "    .dataframe tbody tr th {\n",
       "        vertical-align: top;\n",
       "    }\n",
       "\n",
       "    .dataframe thead th {\n",
       "        text-align: right;\n",
       "    }\n",
       "</style>\n",
       "<table border=\"1\" class=\"dataframe\">\n",
       "  <thead>\n",
       "    <tr style=\"text-align: right;\">\n",
       "      <th></th>\n",
       "      <th>customerID</th>\n",
       "      <th>InternetService</th>\n",
       "      <th>OnlineSecurity</th>\n",
       "      <th>OnlineBackup</th>\n",
       "      <th>DeviceProtection</th>\n",
       "      <th>TechSupport</th>\n",
       "      <th>StreamingTV</th>\n",
       "      <th>StreamingMovies</th>\n",
       "    </tr>\n",
       "  </thead>\n",
       "  <tbody>\n",
       "    <tr>\n",
       "      <th>0</th>\n",
       "      <td>7590-VHVEG</td>\n",
       "      <td>DSL</td>\n",
       "      <td>No</td>\n",
       "      <td>Yes</td>\n",
       "      <td>No</td>\n",
       "      <td>No</td>\n",
       "      <td>No</td>\n",
       "      <td>No</td>\n",
       "    </tr>\n",
       "    <tr>\n",
       "      <th>1</th>\n",
       "      <td>5575-GNVDE</td>\n",
       "      <td>DSL</td>\n",
       "      <td>Yes</td>\n",
       "      <td>No</td>\n",
       "      <td>Yes</td>\n",
       "      <td>No</td>\n",
       "      <td>No</td>\n",
       "      <td>No</td>\n",
       "    </tr>\n",
       "    <tr>\n",
       "      <th>2</th>\n",
       "      <td>3668-QPYBK</td>\n",
       "      <td>DSL</td>\n",
       "      <td>Yes</td>\n",
       "      <td>Yes</td>\n",
       "      <td>No</td>\n",
       "      <td>No</td>\n",
       "      <td>No</td>\n",
       "      <td>No</td>\n",
       "    </tr>\n",
       "    <tr>\n",
       "      <th>3</th>\n",
       "      <td>7795-CFOCW</td>\n",
       "      <td>DSL</td>\n",
       "      <td>Yes</td>\n",
       "      <td>No</td>\n",
       "      <td>Yes</td>\n",
       "      <td>Yes</td>\n",
       "      <td>No</td>\n",
       "      <td>No</td>\n",
       "    </tr>\n",
       "    <tr>\n",
       "      <th>4</th>\n",
       "      <td>9237-HQITU</td>\n",
       "      <td>Fiber optic</td>\n",
       "      <td>No</td>\n",
       "      <td>No</td>\n",
       "      <td>No</td>\n",
       "      <td>No</td>\n",
       "      <td>No</td>\n",
       "      <td>No</td>\n",
       "    </tr>\n",
       "  </tbody>\n",
       "</table>\n",
       "</div>"
      ],
      "text/plain": [
       "   customerID InternetService OnlineSecurity OnlineBackup DeviceProtection  \\\n",
       "0  7590-VHVEG             DSL             No          Yes               No   \n",
       "1  5575-GNVDE             DSL            Yes           No              Yes   \n",
       "2  3668-QPYBK             DSL            Yes          Yes               No   \n",
       "3  7795-CFOCW             DSL            Yes           No              Yes   \n",
       "4  9237-HQITU     Fiber optic             No           No               No   \n",
       "\n",
       "  TechSupport StreamingTV StreamingMovies  \n",
       "0          No          No              No  \n",
       "1          No          No              No  \n",
       "2          No          No              No  \n",
       "3         Yes          No              No  \n",
       "4          No          No              No  "
      ]
     },
     "metadata": {},
     "output_type": "display_data"
    },
    {
     "name": "stdout",
     "output_type": "stream",
     "text": [
      "<class 'pandas.core.frame.DataFrame'>\n",
      "RangeIndex: 5517 entries, 0 to 5516\n",
      "Data columns (total 8 columns):\n",
      " #   Column            Non-Null Count  Dtype \n",
      "---  ------            --------------  ----- \n",
      " 0   customerID        5517 non-null   object\n",
      " 1   InternetService   5517 non-null   object\n",
      " 2   OnlineSecurity    5517 non-null   object\n",
      " 3   OnlineBackup      5517 non-null   object\n",
      " 4   DeviceProtection  5517 non-null   object\n",
      " 5   TechSupport       5517 non-null   object\n",
      " 6   StreamingTV       5517 non-null   object\n",
      " 7   StreamingMovies   5517 non-null   object\n",
      "dtypes: object(8)\n",
      "memory usage: 344.9+ KB\n"
     ]
    }
   ],
   "source": [
    "#файл с информацией об интернет-услугах\n",
    "\n",
    "internet = pd.read_csv('/datasets/final_provider/internet.csv')\n",
    "display(internet.head())\n",
    "internet.info()"
   ]
  },
  {
   "cell_type": "code",
   "execution_count": 5,
   "metadata": {
    "scrolled": true
   },
   "outputs": [
    {
     "data": {
      "text/html": [
       "<div>\n",
       "<style scoped>\n",
       "    .dataframe tbody tr th:only-of-type {\n",
       "        vertical-align: middle;\n",
       "    }\n",
       "\n",
       "    .dataframe tbody tr th {\n",
       "        vertical-align: top;\n",
       "    }\n",
       "\n",
       "    .dataframe thead th {\n",
       "        text-align: right;\n",
       "    }\n",
       "</style>\n",
       "<table border=\"1\" class=\"dataframe\">\n",
       "  <thead>\n",
       "    <tr style=\"text-align: right;\">\n",
       "      <th></th>\n",
       "      <th>customerID</th>\n",
       "      <th>MultipleLines</th>\n",
       "    </tr>\n",
       "  </thead>\n",
       "  <tbody>\n",
       "    <tr>\n",
       "      <th>0</th>\n",
       "      <td>5575-GNVDE</td>\n",
       "      <td>No</td>\n",
       "    </tr>\n",
       "    <tr>\n",
       "      <th>1</th>\n",
       "      <td>3668-QPYBK</td>\n",
       "      <td>No</td>\n",
       "    </tr>\n",
       "    <tr>\n",
       "      <th>2</th>\n",
       "      <td>9237-HQITU</td>\n",
       "      <td>No</td>\n",
       "    </tr>\n",
       "    <tr>\n",
       "      <th>3</th>\n",
       "      <td>9305-CDSKC</td>\n",
       "      <td>Yes</td>\n",
       "    </tr>\n",
       "    <tr>\n",
       "      <th>4</th>\n",
       "      <td>1452-KIOVK</td>\n",
       "      <td>Yes</td>\n",
       "    </tr>\n",
       "  </tbody>\n",
       "</table>\n",
       "</div>"
      ],
      "text/plain": [
       "   customerID MultipleLines\n",
       "0  5575-GNVDE            No\n",
       "1  3668-QPYBK            No\n",
       "2  9237-HQITU            No\n",
       "3  9305-CDSKC           Yes\n",
       "4  1452-KIOVK           Yes"
      ]
     },
     "metadata": {},
     "output_type": "display_data"
    },
    {
     "name": "stdout",
     "output_type": "stream",
     "text": [
      "<class 'pandas.core.frame.DataFrame'>\n",
      "RangeIndex: 6361 entries, 0 to 6360\n",
      "Data columns (total 2 columns):\n",
      " #   Column         Non-Null Count  Dtype \n",
      "---  ------         --------------  ----- \n",
      " 0   customerID     6361 non-null   object\n",
      " 1   MultipleLines  6361 non-null   object\n",
      "dtypes: object(2)\n",
      "memory usage: 99.5+ KB\n"
     ]
    }
   ],
   "source": [
    "#файл с информацией об услугах телефонии\n",
    "\n",
    "phone = pd.read_csv('/datasets/final_provider/phone.csv')\n",
    "display(phone.head())\n",
    "phone.info()"
   ]
  },
  {
   "cell_type": "markdown",
   "metadata": {},
   "source": [
    "## Предобработка данных: слияние таблиц, приведение к нужному типу данных, работа с пропусками и дубликатами"
   ]
  },
  {
   "cell_type": "markdown",
   "metadata": {},
   "source": [
    "Во всех датасетах у нас есть общий столбец customerID, который содержит уникальный идентификатор клиента. Для удобства дальнейшего анализа произведем слияние датасетов по customerID, чтобы получить полную информацию по каждому клиенту."
   ]
  },
  {
   "cell_type": "code",
   "execution_count": 6,
   "metadata": {
    "scrolled": false
   },
   "outputs": [
    {
     "data": {
      "text/html": [
       "<div>\n",
       "<style scoped>\n",
       "    .dataframe tbody tr th:only-of-type {\n",
       "        vertical-align: middle;\n",
       "    }\n",
       "\n",
       "    .dataframe tbody tr th {\n",
       "        vertical-align: top;\n",
       "    }\n",
       "\n",
       "    .dataframe thead th {\n",
       "        text-align: right;\n",
       "    }\n",
       "</style>\n",
       "<table border=\"1\" class=\"dataframe\">\n",
       "  <thead>\n",
       "    <tr style=\"text-align: right;\">\n",
       "      <th></th>\n",
       "      <th>customerID</th>\n",
       "      <th>BeginDate</th>\n",
       "      <th>EndDate</th>\n",
       "      <th>Type</th>\n",
       "      <th>PaperlessBilling</th>\n",
       "      <th>PaymentMethod</th>\n",
       "      <th>MonthlyCharges</th>\n",
       "      <th>TotalCharges</th>\n",
       "      <th>gender</th>\n",
       "      <th>SeniorCitizen</th>\n",
       "      <th>Partner</th>\n",
       "      <th>Dependents</th>\n",
       "      <th>InternetService</th>\n",
       "      <th>OnlineSecurity</th>\n",
       "      <th>OnlineBackup</th>\n",
       "      <th>DeviceProtection</th>\n",
       "      <th>TechSupport</th>\n",
       "      <th>StreamingTV</th>\n",
       "      <th>StreamingMovies</th>\n",
       "      <th>MultipleLines</th>\n",
       "    </tr>\n",
       "  </thead>\n",
       "  <tbody>\n",
       "    <tr>\n",
       "      <th>0</th>\n",
       "      <td>7590-VHVEG</td>\n",
       "      <td>2020-01-01</td>\n",
       "      <td>No</td>\n",
       "      <td>Month-to-month</td>\n",
       "      <td>Yes</td>\n",
       "      <td>Electronic check</td>\n",
       "      <td>29.85</td>\n",
       "      <td>29.85</td>\n",
       "      <td>Female</td>\n",
       "      <td>0</td>\n",
       "      <td>Yes</td>\n",
       "      <td>No</td>\n",
       "      <td>DSL</td>\n",
       "      <td>No</td>\n",
       "      <td>Yes</td>\n",
       "      <td>No</td>\n",
       "      <td>No</td>\n",
       "      <td>No</td>\n",
       "      <td>No</td>\n",
       "      <td>NaN</td>\n",
       "    </tr>\n",
       "    <tr>\n",
       "      <th>1</th>\n",
       "      <td>5575-GNVDE</td>\n",
       "      <td>2017-04-01</td>\n",
       "      <td>No</td>\n",
       "      <td>One year</td>\n",
       "      <td>No</td>\n",
       "      <td>Mailed check</td>\n",
       "      <td>56.95</td>\n",
       "      <td>1889.5</td>\n",
       "      <td>Male</td>\n",
       "      <td>0</td>\n",
       "      <td>No</td>\n",
       "      <td>No</td>\n",
       "      <td>DSL</td>\n",
       "      <td>Yes</td>\n",
       "      <td>No</td>\n",
       "      <td>Yes</td>\n",
       "      <td>No</td>\n",
       "      <td>No</td>\n",
       "      <td>No</td>\n",
       "      <td>No</td>\n",
       "    </tr>\n",
       "    <tr>\n",
       "      <th>2</th>\n",
       "      <td>3668-QPYBK</td>\n",
       "      <td>2019-10-01</td>\n",
       "      <td>2019-12-01 00:00:00</td>\n",
       "      <td>Month-to-month</td>\n",
       "      <td>Yes</td>\n",
       "      <td>Mailed check</td>\n",
       "      <td>53.85</td>\n",
       "      <td>108.15</td>\n",
       "      <td>Male</td>\n",
       "      <td>0</td>\n",
       "      <td>No</td>\n",
       "      <td>No</td>\n",
       "      <td>DSL</td>\n",
       "      <td>Yes</td>\n",
       "      <td>Yes</td>\n",
       "      <td>No</td>\n",
       "      <td>No</td>\n",
       "      <td>No</td>\n",
       "      <td>No</td>\n",
       "      <td>No</td>\n",
       "    </tr>\n",
       "    <tr>\n",
       "      <th>3</th>\n",
       "      <td>7795-CFOCW</td>\n",
       "      <td>2016-05-01</td>\n",
       "      <td>No</td>\n",
       "      <td>One year</td>\n",
       "      <td>No</td>\n",
       "      <td>Bank transfer (automatic)</td>\n",
       "      <td>42.30</td>\n",
       "      <td>1840.75</td>\n",
       "      <td>Male</td>\n",
       "      <td>0</td>\n",
       "      <td>No</td>\n",
       "      <td>No</td>\n",
       "      <td>DSL</td>\n",
       "      <td>Yes</td>\n",
       "      <td>No</td>\n",
       "      <td>Yes</td>\n",
       "      <td>Yes</td>\n",
       "      <td>No</td>\n",
       "      <td>No</td>\n",
       "      <td>NaN</td>\n",
       "    </tr>\n",
       "    <tr>\n",
       "      <th>4</th>\n",
       "      <td>9237-HQITU</td>\n",
       "      <td>2019-09-01</td>\n",
       "      <td>2019-11-01 00:00:00</td>\n",
       "      <td>Month-to-month</td>\n",
       "      <td>Yes</td>\n",
       "      <td>Electronic check</td>\n",
       "      <td>70.70</td>\n",
       "      <td>151.65</td>\n",
       "      <td>Female</td>\n",
       "      <td>0</td>\n",
       "      <td>No</td>\n",
       "      <td>No</td>\n",
       "      <td>Fiber optic</td>\n",
       "      <td>No</td>\n",
       "      <td>No</td>\n",
       "      <td>No</td>\n",
       "      <td>No</td>\n",
       "      <td>No</td>\n",
       "      <td>No</td>\n",
       "      <td>No</td>\n",
       "    </tr>\n",
       "  </tbody>\n",
       "</table>\n",
       "</div>"
      ],
      "text/plain": [
       "   customerID   BeginDate              EndDate            Type  \\\n",
       "0  7590-VHVEG  2020-01-01                   No  Month-to-month   \n",
       "1  5575-GNVDE  2017-04-01                   No        One year   \n",
       "2  3668-QPYBK  2019-10-01  2019-12-01 00:00:00  Month-to-month   \n",
       "3  7795-CFOCW  2016-05-01                   No        One year   \n",
       "4  9237-HQITU  2019-09-01  2019-11-01 00:00:00  Month-to-month   \n",
       "\n",
       "  PaperlessBilling              PaymentMethod  MonthlyCharges TotalCharges  \\\n",
       "0              Yes           Electronic check           29.85        29.85   \n",
       "1               No               Mailed check           56.95       1889.5   \n",
       "2              Yes               Mailed check           53.85       108.15   \n",
       "3               No  Bank transfer (automatic)           42.30      1840.75   \n",
       "4              Yes           Electronic check           70.70       151.65   \n",
       "\n",
       "   gender  SeniorCitizen Partner Dependents InternetService OnlineSecurity  \\\n",
       "0  Female              0     Yes         No             DSL             No   \n",
       "1    Male              0      No         No             DSL            Yes   \n",
       "2    Male              0      No         No             DSL            Yes   \n",
       "3    Male              0      No         No             DSL            Yes   \n",
       "4  Female              0      No         No     Fiber optic             No   \n",
       "\n",
       "  OnlineBackup DeviceProtection TechSupport StreamingTV StreamingMovies  \\\n",
       "0          Yes               No          No          No              No   \n",
       "1           No              Yes          No          No              No   \n",
       "2          Yes               No          No          No              No   \n",
       "3           No              Yes         Yes          No              No   \n",
       "4           No               No          No          No              No   \n",
       "\n",
       "  MultipleLines  \n",
       "0           NaN  \n",
       "1            No  \n",
       "2            No  \n",
       "3           NaN  \n",
       "4            No  "
      ]
     },
     "metadata": {},
     "output_type": "display_data"
    },
    {
     "name": "stdout",
     "output_type": "stream",
     "text": [
      "<class 'pandas.core.frame.DataFrame'>\n",
      "Int64Index: 7043 entries, 0 to 7042\n",
      "Data columns (total 20 columns):\n",
      " #   Column            Non-Null Count  Dtype  \n",
      "---  ------            --------------  -----  \n",
      " 0   customerID        7043 non-null   object \n",
      " 1   BeginDate         7043 non-null   object \n",
      " 2   EndDate           7043 non-null   object \n",
      " 3   Type              7043 non-null   object \n",
      " 4   PaperlessBilling  7043 non-null   object \n",
      " 5   PaymentMethod     7043 non-null   object \n",
      " 6   MonthlyCharges    7043 non-null   float64\n",
      " 7   TotalCharges      7043 non-null   object \n",
      " 8   gender            7043 non-null   object \n",
      " 9   SeniorCitizen     7043 non-null   int64  \n",
      " 10  Partner           7043 non-null   object \n",
      " 11  Dependents        7043 non-null   object \n",
      " 12  InternetService   5517 non-null   object \n",
      " 13  OnlineSecurity    5517 non-null   object \n",
      " 14  OnlineBackup      5517 non-null   object \n",
      " 15  DeviceProtection  5517 non-null   object \n",
      " 16  TechSupport       5517 non-null   object \n",
      " 17  StreamingTV       5517 non-null   object \n",
      " 18  StreamingMovies   5517 non-null   object \n",
      " 19  MultipleLines     6361 non-null   object \n",
      "dtypes: float64(1), int64(1), object(18)\n",
      "memory usage: 1.1+ MB\n"
     ]
    }
   ],
   "source": [
    "data_cp = contract.merge(personal, on='customerID', how='left')\n",
    "data_cpi = data_cp.merge(internet, on='customerID', how='left')\n",
    "data_full = data_cpi.merge(phone, on='customerID', how='left')\n",
    "display(data_full.head())\n",
    "data_full.info()"
   ]
  },
  {
   "cell_type": "code",
   "execution_count": 7,
   "metadata": {
    "scrolled": true
   },
   "outputs": [
    {
     "data": {
      "text/plain": [
       "0"
      ]
     },
     "execution_count": 7,
     "metadata": {},
     "output_type": "execute_result"
    }
   ],
   "source": [
    "#проверка на дубликаты\n",
    "data_full.duplicated().sum()"
   ]
  },
  {
   "cell_type": "code",
   "execution_count": 8,
   "metadata": {
    "scrolled": false
   },
   "outputs": [
    {
     "data": {
      "text/plain": [
       "customerID          0\n",
       "BeginDate           0\n",
       "EndDate             0\n",
       "Type                0\n",
       "PaperlessBilling    0\n",
       "PaymentMethod       0\n",
       "MonthlyCharges      0\n",
       "TotalCharges        0\n",
       "gender              0\n",
       "SeniorCitizen       0\n",
       "Partner             0\n",
       "Dependents          0\n",
       "InternetService     0\n",
       "OnlineSecurity      0\n",
       "OnlineBackup        0\n",
       "DeviceProtection    0\n",
       "TechSupport         0\n",
       "StreamingTV         0\n",
       "StreamingMovies     0\n",
       "MultipleLines       0\n",
       "dtype: int64"
      ]
     },
     "execution_count": 8,
     "metadata": {},
     "output_type": "execute_result"
    }
   ],
   "source": [
    "#замена пропусков на NO, так как пропуски это клиенты не подключившие данную услугу\n",
    "data_full = data_full.fillna('No')\n",
    "data_full.isna().sum()"
   ]
  },
  {
   "cell_type": "code",
   "execution_count": 9,
   "metadata": {},
   "outputs": [
    {
     "data": {
      "text/plain": [
       "7043"
      ]
     },
     "execution_count": 9,
     "metadata": {},
     "output_type": "execute_result"
    }
   ],
   "source": [
    "#проверка уникальных значений\n",
    "len(data_full['customerID'].unique())"
   ]
  },
  {
   "cell_type": "code",
   "execution_count": 10,
   "metadata": {
    "scrolled": false
   },
   "outputs": [
    {
     "data": {
      "text/plain": [
       "array(['No', '2019-12-01 00:00:00', '2019-11-01 00:00:00',\n",
       "       '2019-10-01 00:00:00', '2020-01-01 00:00:00'], dtype=object)"
      ]
     },
     "metadata": {},
     "output_type": "display_data"
    },
    {
     "data": {
      "text/plain": [
       "array(['Month-to-month', 'One year', 'Two year'], dtype=object)"
      ]
     },
     "metadata": {},
     "output_type": "display_data"
    },
    {
     "data": {
      "text/plain": [
       "array(['Yes', 'No'], dtype=object)"
      ]
     },
     "metadata": {},
     "output_type": "display_data"
    },
    {
     "data": {
      "text/plain": [
       "array(['Female', 'Male'], dtype=object)"
      ]
     },
     "metadata": {},
     "output_type": "display_data"
    },
    {
     "data": {
      "text/plain": [
       "array([0, 1])"
      ]
     },
     "metadata": {},
     "output_type": "display_data"
    },
    {
     "data": {
      "text/plain": [
       "array(['Yes', 'No'], dtype=object)"
      ]
     },
     "metadata": {},
     "output_type": "display_data"
    },
    {
     "data": {
      "text/plain": [
       "array(['No', 'Yes'], dtype=object)"
      ]
     },
     "metadata": {},
     "output_type": "display_data"
    },
    {
     "data": {
      "text/plain": [
       "array(['DSL', 'Fiber optic', 'No'], dtype=object)"
      ]
     },
     "metadata": {},
     "output_type": "display_data"
    },
    {
     "data": {
      "text/plain": [
       "array(['No', 'Yes'], dtype=object)"
      ]
     },
     "metadata": {},
     "output_type": "display_data"
    },
    {
     "data": {
      "text/plain": [
       "array(['Yes', 'No'], dtype=object)"
      ]
     },
     "metadata": {},
     "output_type": "display_data"
    },
    {
     "data": {
      "text/plain": [
       "array(['No', 'Yes'], dtype=object)"
      ]
     },
     "metadata": {},
     "output_type": "display_data"
    },
    {
     "data": {
      "text/plain": [
       "array(['No', 'Yes'], dtype=object)"
      ]
     },
     "metadata": {},
     "output_type": "display_data"
    },
    {
     "data": {
      "text/plain": [
       "array(['No', 'Yes'], dtype=object)"
      ]
     },
     "metadata": {},
     "output_type": "display_data"
    },
    {
     "data": {
      "text/plain": [
       "array(['No', 'Yes'], dtype=object)"
      ]
     },
     "metadata": {},
     "output_type": "display_data"
    },
    {
     "data": {
      "text/plain": [
       "array(['Electronic check', 'Mailed check', 'Bank transfer (automatic)',\n",
       "       'Credit card (automatic)'], dtype=object)"
      ]
     },
     "metadata": {},
     "output_type": "display_data"
    },
    {
     "data": {
      "text/plain": [
       "array([29.85, 56.95, 53.85, ..., 63.1 , 44.2 , 78.7 ])"
      ]
     },
     "metadata": {},
     "output_type": "display_data"
    },
    {
     "data": {
      "text/plain": [
       "array(['29.85', '1889.5', '108.15', ..., '346.45', '306.6', '6844.5'],\n",
       "      dtype=object)"
      ]
     },
     "metadata": {},
     "output_type": "display_data"
    }
   ],
   "source": [
    "display(data_full['EndDate'].unique())\n",
    "display(data_full['Type'].unique())\n",
    "display(data_full['PaperlessBilling'].unique())\n",
    "display(data_full['gender'].unique())\n",
    "display(data_full['SeniorCitizen'].unique())\n",
    "display(data_full['Partner'].unique())\n",
    "display(data_full['Dependents'].unique())\n",
    "display(data_full['InternetService'].unique())\n",
    "display(data_full['OnlineSecurity'].unique())\n",
    "display(data_full['OnlineBackup'].unique())\n",
    "display(data_full['DeviceProtection'].unique())\n",
    "display(data_full['TechSupport'].unique())\n",
    "display(data_full['StreamingTV'].unique())\n",
    "display(data_full['MultipleLines'].unique())\n",
    "display(data_full['PaymentMethod'].unique())\n",
    "display(data_full['MonthlyCharges'].unique())\n",
    "display(data_full['TotalCharges'].unique())"
   ]
  },
  {
   "cell_type": "code",
   "execution_count": 11,
   "metadata": {},
   "outputs": [],
   "source": [
    "#приведение данных к нужному типу\n",
    "data_full['BeginDate'] = pd.to_datetime(data_full['BeginDate'], format = '%Y-%m-%d')"
   ]
  },
  {
   "cell_type": "markdown",
   "metadata": {},
   "source": [
    "Переводя колонку с общей суммой платежей к числовому типу мы обнаружи неявные пропуски ' '. Удалим их из датасета, так как данных значений немного."
   ]
  },
  {
   "cell_type": "code",
   "execution_count": 12,
   "metadata": {},
   "outputs": [],
   "source": [
    "data_full = data_full[data_full['TotalCharges'] != ' ']\n",
    "data_full['TotalCharges'] = data_full['TotalCharges'].astype('float')"
   ]
  },
  {
   "cell_type": "markdown",
   "metadata": {},
   "source": [
    "Дату окончания договора приводить к типу datetime пока не будем, так как многие клиенты на момент выгрузки данных 1 февраля 2020 продолжали пользоваться услугами, зато используя этот столбец мы можем добавить новый признак, так называемый срок жизни клиента и проанализировать количество дней, в течении которых клиент пользовался услугами компании до момента выгрузки данных."
   ]
  },
  {
   "cell_type": "code",
   "execution_count": 13,
   "metadata": {
    "scrolled": true
   },
   "outputs": [
    {
     "data": {
      "text/plain": [
       "array([  31, 1036,   61, 1371,  245,  671,  306,  853, 1888,  396,  488,\n",
       "       1767, 1491,  761, 2102, 1584, 2163,  304,  641,   30,  365, 1492,\n",
       "        914, 1431, 2191,  518,   62,  822,  153, 1401, 1033,  335, 2132,\n",
       "       1918, 1310,  456, 1826,  549, 2010, 1432,  275,   92,  945, 1523,\n",
       "       1949, 1706,  337,  214, 1279,  276, 1067, 1461,  883, 1979, 1157,\n",
       "       2071,  975, 1675, 1126, 1095,  303, 1248,  184,   91,  215,  123,\n",
       "       1006, 2041,  702, 1737,  242, 1857,  457,  427,  610, 1614,  395,\n",
       "       1218, 1798,  730, 1340,  579,  122, 1645, 1553,  580, 1795,  487,\n",
       "       1583,  548,  974, 1156, 1309, 1917,  640,  760,  334, 2101,  669,\n",
       "       1676, 1856,  792,  852, 1217,  699, 1186, 1065, 1703,  273,  607,\n",
       "       1003, 1369,  609, 1005, 1399, 1887, 1187, 1765, 2129,  638, 1522,\n",
       "        183, 1064, 1338, 2160,  972,  244,  791,  426, 1125, 1796, 2130,\n",
       "       1034, 1430,  913, 2040, 1278, 1400, 2009,  944, 1734, 2099, 1764,\n",
       "        700,  668, 1736, 1370, 1644, 2070,  821, 1705, 1948, 2068, 2161,\n",
       "       1552])"
      ]
     },
     "metadata": {},
     "output_type": "display_data"
    }
   ],
   "source": [
    "#создадим функцию для расчета срока жизни клиента в днях\n",
    "def client_days(row):\n",
    "    current_day = pd.Timestamp('2020-02-01')\n",
    "    \n",
    "    if row['EndDate'] =='No':\n",
    "        return (current_day-row['BeginDate']).days\n",
    "    else:\n",
    "        return (pd.Timestamp(row['EndDate'])-row['BeginDate']).days\n",
    "\n",
    "data_full['client_days'] = data_full.apply(client_days, axis=1)\n",
    "display(data_full['client_days'].unique())"
   ]
  },
  {
   "cell_type": "code",
   "execution_count": 14,
   "metadata": {
    "scrolled": true
   },
   "outputs": [
    {
     "data": {
      "text/html": [
       "<div>\n",
       "<style scoped>\n",
       "    .dataframe tbody tr th:only-of-type {\n",
       "        vertical-align: middle;\n",
       "    }\n",
       "\n",
       "    .dataframe tbody tr th {\n",
       "        vertical-align: top;\n",
       "    }\n",
       "\n",
       "    .dataframe thead th {\n",
       "        text-align: right;\n",
       "    }\n",
       "</style>\n",
       "<table border=\"1\" class=\"dataframe\">\n",
       "  <thead>\n",
       "    <tr style=\"text-align: right;\">\n",
       "      <th></th>\n",
       "      <th>customerID</th>\n",
       "      <th>BeginDate</th>\n",
       "      <th>EndDate</th>\n",
       "      <th>Type</th>\n",
       "      <th>PaperlessBilling</th>\n",
       "      <th>PaymentMethod</th>\n",
       "      <th>MonthlyCharges</th>\n",
       "      <th>TotalCharges</th>\n",
       "      <th>gender</th>\n",
       "      <th>SeniorCitizen</th>\n",
       "      <th>...</th>\n",
       "      <th>Dependents</th>\n",
       "      <th>InternetService</th>\n",
       "      <th>OnlineSecurity</th>\n",
       "      <th>OnlineBackup</th>\n",
       "      <th>DeviceProtection</th>\n",
       "      <th>TechSupport</th>\n",
       "      <th>StreamingTV</th>\n",
       "      <th>StreamingMovies</th>\n",
       "      <th>MultipleLines</th>\n",
       "      <th>client_days</th>\n",
       "    </tr>\n",
       "  </thead>\n",
       "  <tbody>\n",
       "  </tbody>\n",
       "</table>\n",
       "<p>0 rows × 21 columns</p>\n",
       "</div>"
      ],
      "text/plain": [
       "Empty DataFrame\n",
       "Columns: [customerID, BeginDate, EndDate, Type, PaperlessBilling, PaymentMethod, MonthlyCharges, TotalCharges, gender, SeniorCitizen, Partner, Dependents, InternetService, OnlineSecurity, OnlineBackup, DeviceProtection, TechSupport, StreamingTV, StreamingMovies, MultipleLines, client_days]\n",
       "Index: []\n",
       "\n",
       "[0 rows x 21 columns]"
      ]
     },
     "execution_count": 14,
     "metadata": {},
     "output_type": "execute_result"
    }
   ],
   "source": [
    "data_full.query('client_days == \"0\"')"
   ]
  },
  {
   "cell_type": "markdown",
   "metadata": {},
   "source": [
    "Теперь мы можем выделить целевой признак ушел клиент или нет по столбцу EndDate для решения задачи бинарной классификации"
   ]
  },
  {
   "cell_type": "code",
   "execution_count": 15,
   "metadata": {
    "scrolled": false
   },
   "outputs": [
    {
     "data": {
      "text/html": [
       "<div>\n",
       "<style scoped>\n",
       "    .dataframe tbody tr th:only-of-type {\n",
       "        vertical-align: middle;\n",
       "    }\n",
       "\n",
       "    .dataframe tbody tr th {\n",
       "        vertical-align: top;\n",
       "    }\n",
       "\n",
       "    .dataframe thead th {\n",
       "        text-align: right;\n",
       "    }\n",
       "</style>\n",
       "<table border=\"1\" class=\"dataframe\">\n",
       "  <thead>\n",
       "    <tr style=\"text-align: right;\">\n",
       "      <th></th>\n",
       "      <th>customerID</th>\n",
       "      <th>BeginDate</th>\n",
       "      <th>EndDate</th>\n",
       "      <th>Type</th>\n",
       "      <th>PaperlessBilling</th>\n",
       "      <th>PaymentMethod</th>\n",
       "      <th>MonthlyCharges</th>\n",
       "      <th>TotalCharges</th>\n",
       "      <th>gender</th>\n",
       "      <th>SeniorCitizen</th>\n",
       "      <th>...</th>\n",
       "      <th>InternetService</th>\n",
       "      <th>OnlineSecurity</th>\n",
       "      <th>OnlineBackup</th>\n",
       "      <th>DeviceProtection</th>\n",
       "      <th>TechSupport</th>\n",
       "      <th>StreamingTV</th>\n",
       "      <th>StreamingMovies</th>\n",
       "      <th>MultipleLines</th>\n",
       "      <th>client_days</th>\n",
       "      <th>left_or_not</th>\n",
       "    </tr>\n",
       "  </thead>\n",
       "  <tbody>\n",
       "    <tr>\n",
       "      <th>0</th>\n",
       "      <td>7590-VHVEG</td>\n",
       "      <td>2020-01-01</td>\n",
       "      <td>No</td>\n",
       "      <td>Month-to-month</td>\n",
       "      <td>Yes</td>\n",
       "      <td>Electronic check</td>\n",
       "      <td>29.85</td>\n",
       "      <td>29.85</td>\n",
       "      <td>Female</td>\n",
       "      <td>0</td>\n",
       "      <td>...</td>\n",
       "      <td>DSL</td>\n",
       "      <td>No</td>\n",
       "      <td>Yes</td>\n",
       "      <td>No</td>\n",
       "      <td>No</td>\n",
       "      <td>No</td>\n",
       "      <td>No</td>\n",
       "      <td>No</td>\n",
       "      <td>31</td>\n",
       "      <td>0</td>\n",
       "    </tr>\n",
       "    <tr>\n",
       "      <th>1</th>\n",
       "      <td>5575-GNVDE</td>\n",
       "      <td>2017-04-01</td>\n",
       "      <td>No</td>\n",
       "      <td>One year</td>\n",
       "      <td>No</td>\n",
       "      <td>Mailed check</td>\n",
       "      <td>56.95</td>\n",
       "      <td>1889.50</td>\n",
       "      <td>Male</td>\n",
       "      <td>0</td>\n",
       "      <td>...</td>\n",
       "      <td>DSL</td>\n",
       "      <td>Yes</td>\n",
       "      <td>No</td>\n",
       "      <td>Yes</td>\n",
       "      <td>No</td>\n",
       "      <td>No</td>\n",
       "      <td>No</td>\n",
       "      <td>No</td>\n",
       "      <td>1036</td>\n",
       "      <td>0</td>\n",
       "    </tr>\n",
       "    <tr>\n",
       "      <th>2</th>\n",
       "      <td>3668-QPYBK</td>\n",
       "      <td>2019-10-01</td>\n",
       "      <td>2019-12-01 00:00:00</td>\n",
       "      <td>Month-to-month</td>\n",
       "      <td>Yes</td>\n",
       "      <td>Mailed check</td>\n",
       "      <td>53.85</td>\n",
       "      <td>108.15</td>\n",
       "      <td>Male</td>\n",
       "      <td>0</td>\n",
       "      <td>...</td>\n",
       "      <td>DSL</td>\n",
       "      <td>Yes</td>\n",
       "      <td>Yes</td>\n",
       "      <td>No</td>\n",
       "      <td>No</td>\n",
       "      <td>No</td>\n",
       "      <td>No</td>\n",
       "      <td>No</td>\n",
       "      <td>61</td>\n",
       "      <td>1</td>\n",
       "    </tr>\n",
       "    <tr>\n",
       "      <th>3</th>\n",
       "      <td>7795-CFOCW</td>\n",
       "      <td>2016-05-01</td>\n",
       "      <td>No</td>\n",
       "      <td>One year</td>\n",
       "      <td>No</td>\n",
       "      <td>Bank transfer (automatic)</td>\n",
       "      <td>42.30</td>\n",
       "      <td>1840.75</td>\n",
       "      <td>Male</td>\n",
       "      <td>0</td>\n",
       "      <td>...</td>\n",
       "      <td>DSL</td>\n",
       "      <td>Yes</td>\n",
       "      <td>No</td>\n",
       "      <td>Yes</td>\n",
       "      <td>Yes</td>\n",
       "      <td>No</td>\n",
       "      <td>No</td>\n",
       "      <td>No</td>\n",
       "      <td>1371</td>\n",
       "      <td>0</td>\n",
       "    </tr>\n",
       "    <tr>\n",
       "      <th>4</th>\n",
       "      <td>9237-HQITU</td>\n",
       "      <td>2019-09-01</td>\n",
       "      <td>2019-11-01 00:00:00</td>\n",
       "      <td>Month-to-month</td>\n",
       "      <td>Yes</td>\n",
       "      <td>Electronic check</td>\n",
       "      <td>70.70</td>\n",
       "      <td>151.65</td>\n",
       "      <td>Female</td>\n",
       "      <td>0</td>\n",
       "      <td>...</td>\n",
       "      <td>Fiber optic</td>\n",
       "      <td>No</td>\n",
       "      <td>No</td>\n",
       "      <td>No</td>\n",
       "      <td>No</td>\n",
       "      <td>No</td>\n",
       "      <td>No</td>\n",
       "      <td>No</td>\n",
       "      <td>61</td>\n",
       "      <td>1</td>\n",
       "    </tr>\n",
       "    <tr>\n",
       "      <th>...</th>\n",
       "      <td>...</td>\n",
       "      <td>...</td>\n",
       "      <td>...</td>\n",
       "      <td>...</td>\n",
       "      <td>...</td>\n",
       "      <td>...</td>\n",
       "      <td>...</td>\n",
       "      <td>...</td>\n",
       "      <td>...</td>\n",
       "      <td>...</td>\n",
       "      <td>...</td>\n",
       "      <td>...</td>\n",
       "      <td>...</td>\n",
       "      <td>...</td>\n",
       "      <td>...</td>\n",
       "      <td>...</td>\n",
       "      <td>...</td>\n",
       "      <td>...</td>\n",
       "      <td>...</td>\n",
       "      <td>...</td>\n",
       "      <td>...</td>\n",
       "    </tr>\n",
       "    <tr>\n",
       "      <th>7038</th>\n",
       "      <td>6840-RESVB</td>\n",
       "      <td>2018-02-01</td>\n",
       "      <td>No</td>\n",
       "      <td>One year</td>\n",
       "      <td>Yes</td>\n",
       "      <td>Mailed check</td>\n",
       "      <td>84.80</td>\n",
       "      <td>1990.50</td>\n",
       "      <td>Male</td>\n",
       "      <td>0</td>\n",
       "      <td>...</td>\n",
       "      <td>DSL</td>\n",
       "      <td>Yes</td>\n",
       "      <td>No</td>\n",
       "      <td>Yes</td>\n",
       "      <td>Yes</td>\n",
       "      <td>Yes</td>\n",
       "      <td>Yes</td>\n",
       "      <td>Yes</td>\n",
       "      <td>730</td>\n",
       "      <td>0</td>\n",
       "    </tr>\n",
       "    <tr>\n",
       "      <th>7039</th>\n",
       "      <td>2234-XADUH</td>\n",
       "      <td>2014-02-01</td>\n",
       "      <td>No</td>\n",
       "      <td>One year</td>\n",
       "      <td>Yes</td>\n",
       "      <td>Credit card (automatic)</td>\n",
       "      <td>103.20</td>\n",
       "      <td>7362.90</td>\n",
       "      <td>Female</td>\n",
       "      <td>0</td>\n",
       "      <td>...</td>\n",
       "      <td>Fiber optic</td>\n",
       "      <td>No</td>\n",
       "      <td>Yes</td>\n",
       "      <td>Yes</td>\n",
       "      <td>No</td>\n",
       "      <td>Yes</td>\n",
       "      <td>Yes</td>\n",
       "      <td>Yes</td>\n",
       "      <td>2191</td>\n",
       "      <td>0</td>\n",
       "    </tr>\n",
       "    <tr>\n",
       "      <th>7040</th>\n",
       "      <td>4801-JZAZL</td>\n",
       "      <td>2019-03-01</td>\n",
       "      <td>No</td>\n",
       "      <td>Month-to-month</td>\n",
       "      <td>Yes</td>\n",
       "      <td>Electronic check</td>\n",
       "      <td>29.60</td>\n",
       "      <td>346.45</td>\n",
       "      <td>Female</td>\n",
       "      <td>0</td>\n",
       "      <td>...</td>\n",
       "      <td>DSL</td>\n",
       "      <td>Yes</td>\n",
       "      <td>No</td>\n",
       "      <td>No</td>\n",
       "      <td>No</td>\n",
       "      <td>No</td>\n",
       "      <td>No</td>\n",
       "      <td>No</td>\n",
       "      <td>337</td>\n",
       "      <td>0</td>\n",
       "    </tr>\n",
       "    <tr>\n",
       "      <th>7041</th>\n",
       "      <td>8361-LTMKD</td>\n",
       "      <td>2019-07-01</td>\n",
       "      <td>2019-11-01 00:00:00</td>\n",
       "      <td>Month-to-month</td>\n",
       "      <td>Yes</td>\n",
       "      <td>Mailed check</td>\n",
       "      <td>74.40</td>\n",
       "      <td>306.60</td>\n",
       "      <td>Male</td>\n",
       "      <td>1</td>\n",
       "      <td>...</td>\n",
       "      <td>Fiber optic</td>\n",
       "      <td>No</td>\n",
       "      <td>No</td>\n",
       "      <td>No</td>\n",
       "      <td>No</td>\n",
       "      <td>No</td>\n",
       "      <td>No</td>\n",
       "      <td>Yes</td>\n",
       "      <td>123</td>\n",
       "      <td>1</td>\n",
       "    </tr>\n",
       "    <tr>\n",
       "      <th>7042</th>\n",
       "      <td>3186-AJIEK</td>\n",
       "      <td>2014-08-01</td>\n",
       "      <td>No</td>\n",
       "      <td>Two year</td>\n",
       "      <td>Yes</td>\n",
       "      <td>Bank transfer (automatic)</td>\n",
       "      <td>105.65</td>\n",
       "      <td>6844.50</td>\n",
       "      <td>Male</td>\n",
       "      <td>0</td>\n",
       "      <td>...</td>\n",
       "      <td>Fiber optic</td>\n",
       "      <td>Yes</td>\n",
       "      <td>No</td>\n",
       "      <td>Yes</td>\n",
       "      <td>Yes</td>\n",
       "      <td>Yes</td>\n",
       "      <td>Yes</td>\n",
       "      <td>No</td>\n",
       "      <td>2010</td>\n",
       "      <td>0</td>\n",
       "    </tr>\n",
       "  </tbody>\n",
       "</table>\n",
       "<p>7032 rows × 22 columns</p>\n",
       "</div>"
      ],
      "text/plain": [
       "      customerID  BeginDate              EndDate            Type  \\\n",
       "0     7590-VHVEG 2020-01-01                   No  Month-to-month   \n",
       "1     5575-GNVDE 2017-04-01                   No        One year   \n",
       "2     3668-QPYBK 2019-10-01  2019-12-01 00:00:00  Month-to-month   \n",
       "3     7795-CFOCW 2016-05-01                   No        One year   \n",
       "4     9237-HQITU 2019-09-01  2019-11-01 00:00:00  Month-to-month   \n",
       "...          ...        ...                  ...             ...   \n",
       "7038  6840-RESVB 2018-02-01                   No        One year   \n",
       "7039  2234-XADUH 2014-02-01                   No        One year   \n",
       "7040  4801-JZAZL 2019-03-01                   No  Month-to-month   \n",
       "7041  8361-LTMKD 2019-07-01  2019-11-01 00:00:00  Month-to-month   \n",
       "7042  3186-AJIEK 2014-08-01                   No        Two year   \n",
       "\n",
       "     PaperlessBilling              PaymentMethod  MonthlyCharges  \\\n",
       "0                 Yes           Electronic check           29.85   \n",
       "1                  No               Mailed check           56.95   \n",
       "2                 Yes               Mailed check           53.85   \n",
       "3                  No  Bank transfer (automatic)           42.30   \n",
       "4                 Yes           Electronic check           70.70   \n",
       "...               ...                        ...             ...   \n",
       "7038              Yes               Mailed check           84.80   \n",
       "7039              Yes    Credit card (automatic)          103.20   \n",
       "7040              Yes           Electronic check           29.60   \n",
       "7041              Yes               Mailed check           74.40   \n",
       "7042              Yes  Bank transfer (automatic)          105.65   \n",
       "\n",
       "      TotalCharges  gender  SeniorCitizen  ... InternetService OnlineSecurity  \\\n",
       "0            29.85  Female              0  ...             DSL             No   \n",
       "1          1889.50    Male              0  ...             DSL            Yes   \n",
       "2           108.15    Male              0  ...             DSL            Yes   \n",
       "3          1840.75    Male              0  ...             DSL            Yes   \n",
       "4           151.65  Female              0  ...     Fiber optic             No   \n",
       "...            ...     ...            ...  ...             ...            ...   \n",
       "7038       1990.50    Male              0  ...             DSL            Yes   \n",
       "7039       7362.90  Female              0  ...     Fiber optic             No   \n",
       "7040        346.45  Female              0  ...             DSL            Yes   \n",
       "7041        306.60    Male              1  ...     Fiber optic             No   \n",
       "7042       6844.50    Male              0  ...     Fiber optic            Yes   \n",
       "\n",
       "     OnlineBackup DeviceProtection TechSupport StreamingTV StreamingMovies  \\\n",
       "0             Yes               No          No          No              No   \n",
       "1              No              Yes          No          No              No   \n",
       "2             Yes               No          No          No              No   \n",
       "3              No              Yes         Yes          No              No   \n",
       "4              No               No          No          No              No   \n",
       "...           ...              ...         ...         ...             ...   \n",
       "7038           No              Yes         Yes         Yes             Yes   \n",
       "7039          Yes              Yes          No         Yes             Yes   \n",
       "7040           No               No          No          No              No   \n",
       "7041           No               No          No          No              No   \n",
       "7042           No              Yes         Yes         Yes             Yes   \n",
       "\n",
       "     MultipleLines client_days left_or_not  \n",
       "0               No          31           0  \n",
       "1               No        1036           0  \n",
       "2               No          61           1  \n",
       "3               No        1371           0  \n",
       "4               No          61           1  \n",
       "...            ...         ...         ...  \n",
       "7038           Yes         730           0  \n",
       "7039           Yes        2191           0  \n",
       "7040            No         337           0  \n",
       "7041           Yes         123           1  \n",
       "7042            No        2010           0  \n",
       "\n",
       "[7032 rows x 22 columns]"
      ]
     },
     "metadata": {},
     "output_type": "display_data"
    }
   ],
   "source": [
    "#создадим функцию для целевого признака\n",
    "def left_or_not(row):\n",
    "    \n",
    "    if row['EndDate'] =='No':\n",
    "        return 0\n",
    "    else:\n",
    "        return 1\n",
    "\n",
    "data_full['left_or_not'] = data_full.apply(left_or_not, axis=1)\n",
    "display(data_full)"
   ]
  },
  {
   "cell_type": "markdown",
   "metadata": {},
   "source": [
    "Теперь уберем лишние колонки с датами, которые уже нам не нужны, а также с общей суммой по договору (так как она сильно коррелирует с месячной оплатой и сроком жизни клиента), для обучения модели оставим помесячную сумму оплаты"
   ]
  },
  {
   "cell_type": "code",
   "execution_count": 16,
   "metadata": {
    "scrolled": false
   },
   "outputs": [],
   "source": [
    "data_full.drop(columns=['customerID', 'BeginDate','EndDate', 'TotalCharges'], inplace=True)"
   ]
  },
  {
   "cell_type": "code",
   "execution_count": 17,
   "metadata": {},
   "outputs": [
    {
     "name": "stdout",
     "output_type": "stream",
     "text": [
      "<class 'pandas.core.frame.DataFrame'>\n",
      "Int64Index: 7032 entries, 0 to 7042\n",
      "Data columns (total 18 columns):\n",
      " #   Column            Non-Null Count  Dtype  \n",
      "---  ------            --------------  -----  \n",
      " 0   Type              7032 non-null   object \n",
      " 1   PaperlessBilling  7032 non-null   object \n",
      " 2   PaymentMethod     7032 non-null   object \n",
      " 3   MonthlyCharges    7032 non-null   float64\n",
      " 4   gender            7032 non-null   object \n",
      " 5   SeniorCitizen     7032 non-null   int64  \n",
      " 6   Partner           7032 non-null   object \n",
      " 7   Dependents        7032 non-null   object \n",
      " 8   InternetService   7032 non-null   object \n",
      " 9   OnlineSecurity    7032 non-null   object \n",
      " 10  OnlineBackup      7032 non-null   object \n",
      " 11  DeviceProtection  7032 non-null   object \n",
      " 12  TechSupport       7032 non-null   object \n",
      " 13  StreamingTV       7032 non-null   object \n",
      " 14  StreamingMovies   7032 non-null   object \n",
      " 15  MultipleLines     7032 non-null   object \n",
      " 16  client_days       7032 non-null   int64  \n",
      " 17  left_or_not       7032 non-null   int64  \n",
      "dtypes: float64(1), int64(3), object(14)\n",
      "memory usage: 1.0+ MB\n"
     ]
    }
   ],
   "source": [
    "data_full.info()"
   ]
  },
  {
   "cell_type": "markdown",
   "metadata": {},
   "source": [
    "Мы получили общую таблицу по всем клиентам. Всего в нашем распоряжении 7032 клиента, по каждому клиенту у нас есть следующая информация:\n",
    " - Type - тип договора (например Month-to-month - помесячная оплата, One year - оплата за один год)\n",
    " - PaperlessBilling - согласен ли клиент получать онлайн счета (да или нет)\n",
    " - PaymentMethod - метод оплаты\n",
    " - MonthlyCharges - ежемесячный платеж\n",
    " - gender - пол\n",
    " - SeniorCitizen - статус пенсионера (0 - нет, 1 - да)\n",
    " - Partner - наличие супруга или супруги \n",
    " - Dependents - наличие иждивенцев\n",
    " - InternetService - тип подключения интернета: цифровая абонентская линия или оптоволоконный кабель, в данном столбце у нас были неполные данные, поэтому клиенты с пропусками в этом столбце вероятно не подключали интернет.\n",
    " - OnlineSecurity - подключена ли блокировка небезопасных сайтов или нет, в данном столбце у нас были неполные данные, поэтому клиенты с пропусками в этом столбце не подключали интернет\n",
    " - OnlineBackup - подключена ли услуга облака, пропуски - не подключали интернет\n",
    " - DeviceProtection - подключен ли антивирус или нет, в данном столбце у нас были неполные данные, поэтому клиенты с пропусками в этом столбце вероятно не подключали интернет\n",
    " - TechSupport - подключена ли выделенная линия технической поддержки или нет, пропуски - клиенты не подключали интернет\n",
    " - StreamingTV - подключено ли стриминговое телевидение или нет, пропуски - клиенты не подключали интернет\n",
    " - StreamingMovies - подключен ли каталог фильмов или нет, пропуски - клиенты не подключали интернет\n",
    " - MultipleLines - подключен ли телефонный аппарат к нескольким линиям одновременно или нет, пропуски - клиенты не подключали телефонную связь.\n",
    " - client_days - сколько дней клиент использует услуги\n",
    " - left_or_not - целевой признак, клиент не ушел 0, ушел 1"
   ]
  },
  {
   "cell_type": "markdown",
   "metadata": {},
   "source": [
    "## Разделение датасета на тренировочную и тестовую часть, выделение целевого признака. Обучение различных моделей и проверка на тестовой выборке"
   ]
  },
  {
   "cell_type": "code",
   "execution_count": 18,
   "metadata": {},
   "outputs": [],
   "source": [
    "#кодирование данных\n",
    "data_ohe = pd.get_dummies(data_full, drop_first=True)"
   ]
  },
  {
   "cell_type": "code",
   "execution_count": 19,
   "metadata": {},
   "outputs": [
    {
     "name": "stdout",
     "output_type": "stream",
     "text": [
      "(4219, 21)\n",
      "(4219,)\n",
      "(1406, 21)\n",
      "(1406,)\n",
      "(1407, 21)\n",
      "(1407,)\n"
     ]
    }
   ],
   "source": [
    "target = data_ohe['left_or_not']\n",
    "features = data_ohe.drop(['left_or_not'], axis=1)\n",
    "\n",
    "data_train, data_valid = train_test_split(data_ohe, train_size=0.6, random_state=250722)\n",
    "data_valid, data_test = train_test_split(data_valid, test_size=0.5, random_state=250722)\n",
    "\n",
    "features_train = data_train.drop(['left_or_not'], axis=1) \n",
    "target_train = data_train['left_or_not']\n",
    "features_valid = data_valid.drop(['left_or_not'], axis=1) \n",
    "target_valid = data_valid['left_or_not']\n",
    "features_test = data_test.drop(['left_or_not'], axis=1) \n",
    "target_test = data_test['left_or_not']\n",
    "\n",
    "print(features_train.shape)\n",
    "print(target_train.shape)\n",
    "print(features_valid.shape)\n",
    "print(target_valid.shape)\n",
    "print(features_test.shape)\n",
    "print(target_test.shape)"
   ]
  },
  {
   "cell_type": "code",
   "execution_count": 20,
   "metadata": {},
   "outputs": [
    {
     "data": {
      "text/html": [
       "<div>\n",
       "<style scoped>\n",
       "    .dataframe tbody tr th:only-of-type {\n",
       "        vertical-align: middle;\n",
       "    }\n",
       "\n",
       "    .dataframe tbody tr th {\n",
       "        vertical-align: top;\n",
       "    }\n",
       "\n",
       "    .dataframe thead th {\n",
       "        text-align: right;\n",
       "    }\n",
       "</style>\n",
       "<table border=\"1\" class=\"dataframe\">\n",
       "  <thead>\n",
       "    <tr style=\"text-align: right;\">\n",
       "      <th></th>\n",
       "      <th>MonthlyCharges</th>\n",
       "      <th>SeniorCitizen</th>\n",
       "      <th>client_days</th>\n",
       "      <th>Type_One year</th>\n",
       "      <th>Type_Two year</th>\n",
       "      <th>PaperlessBilling_Yes</th>\n",
       "      <th>PaymentMethod_Credit card (automatic)</th>\n",
       "      <th>PaymentMethod_Electronic check</th>\n",
       "      <th>PaymentMethod_Mailed check</th>\n",
       "      <th>gender_Male</th>\n",
       "      <th>...</th>\n",
       "      <th>Dependents_Yes</th>\n",
       "      <th>InternetService_Fiber optic</th>\n",
       "      <th>InternetService_No</th>\n",
       "      <th>OnlineSecurity_Yes</th>\n",
       "      <th>OnlineBackup_Yes</th>\n",
       "      <th>DeviceProtection_Yes</th>\n",
       "      <th>TechSupport_Yes</th>\n",
       "      <th>StreamingTV_Yes</th>\n",
       "      <th>StreamingMovies_Yes</th>\n",
       "      <th>MultipleLines_Yes</th>\n",
       "    </tr>\n",
       "  </thead>\n",
       "  <tbody>\n",
       "    <tr>\n",
       "      <th>2900</th>\n",
       "      <td>0.142839</td>\n",
       "      <td>1</td>\n",
       "      <td>-1.300014</td>\n",
       "      <td>0</td>\n",
       "      <td>0</td>\n",
       "      <td>1</td>\n",
       "      <td>0</td>\n",
       "      <td>1</td>\n",
       "      <td>0</td>\n",
       "      <td>0</td>\n",
       "      <td>...</td>\n",
       "      <td>1</td>\n",
       "      <td>1</td>\n",
       "      <td>0</td>\n",
       "      <td>0</td>\n",
       "      <td>0</td>\n",
       "      <td>0</td>\n",
       "      <td>0</td>\n",
       "      <td>0</td>\n",
       "      <td>0</td>\n",
       "      <td>0</td>\n",
       "    </tr>\n",
       "    <tr>\n",
       "      <th>5373</th>\n",
       "      <td>1.337744</td>\n",
       "      <td>0</td>\n",
       "      <td>1.564222</td>\n",
       "      <td>0</td>\n",
       "      <td>1</td>\n",
       "      <td>1</td>\n",
       "      <td>0</td>\n",
       "      <td>1</td>\n",
       "      <td>0</td>\n",
       "      <td>1</td>\n",
       "      <td>...</td>\n",
       "      <td>0</td>\n",
       "      <td>1</td>\n",
       "      <td>0</td>\n",
       "      <td>0</td>\n",
       "      <td>1</td>\n",
       "      <td>1</td>\n",
       "      <td>1</td>\n",
       "      <td>1</td>\n",
       "      <td>1</td>\n",
       "      <td>0</td>\n",
       "    </tr>\n",
       "    <tr>\n",
       "      <th>151</th>\n",
       "      <td>0.997528</td>\n",
       "      <td>0</td>\n",
       "      <td>-1.054162</td>\n",
       "      <td>0</td>\n",
       "      <td>0</td>\n",
       "      <td>0</td>\n",
       "      <td>0</td>\n",
       "      <td>0</td>\n",
       "      <td>1</td>\n",
       "      <td>1</td>\n",
       "      <td>...</td>\n",
       "      <td>0</td>\n",
       "      <td>1</td>\n",
       "      <td>0</td>\n",
       "      <td>0</td>\n",
       "      <td>0</td>\n",
       "      <td>0</td>\n",
       "      <td>0</td>\n",
       "      <td>1</td>\n",
       "      <td>1</td>\n",
       "      <td>1</td>\n",
       "    </tr>\n",
       "    <tr>\n",
       "      <th>6340</th>\n",
       "      <td>1.060593</td>\n",
       "      <td>0</td>\n",
       "      <td>-0.398559</td>\n",
       "      <td>0</td>\n",
       "      <td>0</td>\n",
       "      <td>1</td>\n",
       "      <td>1</td>\n",
       "      <td>0</td>\n",
       "      <td>0</td>\n",
       "      <td>1</td>\n",
       "      <td>...</td>\n",
       "      <td>0</td>\n",
       "      <td>1</td>\n",
       "      <td>0</td>\n",
       "      <td>0</td>\n",
       "      <td>0</td>\n",
       "      <td>1</td>\n",
       "      <td>1</td>\n",
       "      <td>1</td>\n",
       "      <td>0</td>\n",
       "      <td>1</td>\n",
       "    </tr>\n",
       "    <tr>\n",
       "      <th>5998</th>\n",
       "      <td>-1.490198</td>\n",
       "      <td>0</td>\n",
       "      <td>0.621120</td>\n",
       "      <td>0</td>\n",
       "      <td>1</td>\n",
       "      <td>1</td>\n",
       "      <td>0</td>\n",
       "      <td>0</td>\n",
       "      <td>1</td>\n",
       "      <td>1</td>\n",
       "      <td>...</td>\n",
       "      <td>0</td>\n",
       "      <td>0</td>\n",
       "      <td>1</td>\n",
       "      <td>0</td>\n",
       "      <td>0</td>\n",
       "      <td>0</td>\n",
       "      <td>0</td>\n",
       "      <td>0</td>\n",
       "      <td>0</td>\n",
       "      <td>0</td>\n",
       "    </tr>\n",
       "  </tbody>\n",
       "</table>\n",
       "<p>5 rows × 21 columns</p>\n",
       "</div>"
      ],
      "text/plain": [
       "      MonthlyCharges  SeniorCitizen  client_days  Type_One year  \\\n",
       "2900        0.142839              1    -1.300014              0   \n",
       "5373        1.337744              0     1.564222              0   \n",
       "151         0.997528              0    -1.054162              0   \n",
       "6340        1.060593              0    -0.398559              0   \n",
       "5998       -1.490198              0     0.621120              0   \n",
       "\n",
       "      Type_Two year  PaperlessBilling_Yes  \\\n",
       "2900              0                     1   \n",
       "5373              1                     1   \n",
       "151               0                     0   \n",
       "6340              0                     1   \n",
       "5998              1                     1   \n",
       "\n",
       "      PaymentMethod_Credit card (automatic)  PaymentMethod_Electronic check  \\\n",
       "2900                                      0                               1   \n",
       "5373                                      0                               1   \n",
       "151                                       0                               0   \n",
       "6340                                      1                               0   \n",
       "5998                                      0                               0   \n",
       "\n",
       "      PaymentMethod_Mailed check  gender_Male  ...  Dependents_Yes  \\\n",
       "2900                           0            0  ...               1   \n",
       "5373                           0            1  ...               0   \n",
       "151                            1            1  ...               0   \n",
       "6340                           0            1  ...               0   \n",
       "5998                           1            1  ...               0   \n",
       "\n",
       "      InternetService_Fiber optic  InternetService_No  OnlineSecurity_Yes  \\\n",
       "2900                            1                   0                   0   \n",
       "5373                            1                   0                   0   \n",
       "151                             1                   0                   0   \n",
       "6340                            1                   0                   0   \n",
       "5998                            0                   1                   0   \n",
       "\n",
       "      OnlineBackup_Yes  DeviceProtection_Yes  TechSupport_Yes  \\\n",
       "2900                 0                     0                0   \n",
       "5373                 1                     1                1   \n",
       "151                  0                     0                0   \n",
       "6340                 0                     1                1   \n",
       "5998                 0                     0                0   \n",
       "\n",
       "      StreamingTV_Yes  StreamingMovies_Yes  MultipleLines_Yes  \n",
       "2900                0                    0                  0  \n",
       "5373                1                    1                  0  \n",
       "151                 1                    1                  1  \n",
       "6340                1                    0                  1  \n",
       "5998                0                    0                  0  \n",
       "\n",
       "[5 rows x 21 columns]"
      ]
     },
     "metadata": {},
     "output_type": "display_data"
    },
    {
     "data": {
      "text/html": [
       "<div>\n",
       "<style scoped>\n",
       "    .dataframe tbody tr th:only-of-type {\n",
       "        vertical-align: middle;\n",
       "    }\n",
       "\n",
       "    .dataframe tbody tr th {\n",
       "        vertical-align: top;\n",
       "    }\n",
       "\n",
       "    .dataframe thead th {\n",
       "        text-align: right;\n",
       "    }\n",
       "</style>\n",
       "<table border=\"1\" class=\"dataframe\">\n",
       "  <thead>\n",
       "    <tr style=\"text-align: right;\">\n",
       "      <th></th>\n",
       "      <th>MonthlyCharges</th>\n",
       "      <th>SeniorCitizen</th>\n",
       "      <th>client_days</th>\n",
       "      <th>Type_One year</th>\n",
       "      <th>Type_Two year</th>\n",
       "      <th>PaperlessBilling_Yes</th>\n",
       "      <th>PaymentMethod_Credit card (automatic)</th>\n",
       "      <th>PaymentMethod_Electronic check</th>\n",
       "      <th>PaymentMethod_Mailed check</th>\n",
       "      <th>gender_Male</th>\n",
       "      <th>...</th>\n",
       "      <th>Dependents_Yes</th>\n",
       "      <th>InternetService_Fiber optic</th>\n",
       "      <th>InternetService_No</th>\n",
       "      <th>OnlineSecurity_Yes</th>\n",
       "      <th>OnlineBackup_Yes</th>\n",
       "      <th>DeviceProtection_Yes</th>\n",
       "      <th>TechSupport_Yes</th>\n",
       "      <th>StreamingTV_Yes</th>\n",
       "      <th>StreamingMovies_Yes</th>\n",
       "      <th>MultipleLines_Yes</th>\n",
       "    </tr>\n",
       "  </thead>\n",
       "  <tbody>\n",
       "    <tr>\n",
       "      <th>4784</th>\n",
       "      <td>-1.506794</td>\n",
       "      <td>0</td>\n",
       "      <td>-1.300014</td>\n",
       "      <td>0</td>\n",
       "      <td>0</td>\n",
       "      <td>1</td>\n",
       "      <td>0</td>\n",
       "      <td>0</td>\n",
       "      <td>1</td>\n",
       "      <td>0</td>\n",
       "      <td>...</td>\n",
       "      <td>0</td>\n",
       "      <td>0</td>\n",
       "      <td>1</td>\n",
       "      <td>0</td>\n",
       "      <td>0</td>\n",
       "      <td>0</td>\n",
       "      <td>0</td>\n",
       "      <td>0</td>\n",
       "      <td>0</td>\n",
       "      <td>0</td>\n",
       "    </tr>\n",
       "    <tr>\n",
       "      <th>6851</th>\n",
       "      <td>0.994209</td>\n",
       "      <td>0</td>\n",
       "      <td>0.212711</td>\n",
       "      <td>0</td>\n",
       "      <td>1</td>\n",
       "      <td>1</td>\n",
       "      <td>0</td>\n",
       "      <td>0</td>\n",
       "      <td>0</td>\n",
       "      <td>1</td>\n",
       "      <td>...</td>\n",
       "      <td>1</td>\n",
       "      <td>1</td>\n",
       "      <td>0</td>\n",
       "      <td>0</td>\n",
       "      <td>0</td>\n",
       "      <td>1</td>\n",
       "      <td>1</td>\n",
       "      <td>1</td>\n",
       "      <td>0</td>\n",
       "      <td>1</td>\n",
       "    </tr>\n",
       "    <tr>\n",
       "      <th>530</th>\n",
       "      <td>-1.455346</td>\n",
       "      <td>0</td>\n",
       "      <td>-0.360942</td>\n",
       "      <td>0</td>\n",
       "      <td>1</td>\n",
       "      <td>1</td>\n",
       "      <td>1</td>\n",
       "      <td>0</td>\n",
       "      <td>0</td>\n",
       "      <td>0</td>\n",
       "      <td>...</td>\n",
       "      <td>1</td>\n",
       "      <td>0</td>\n",
       "      <td>1</td>\n",
       "      <td>0</td>\n",
       "      <td>0</td>\n",
       "      <td>0</td>\n",
       "      <td>0</td>\n",
       "      <td>0</td>\n",
       "      <td>0</td>\n",
       "      <td>0</td>\n",
       "    </tr>\n",
       "    <tr>\n",
       "      <th>158</th>\n",
       "      <td>-0.023120</td>\n",
       "      <td>0</td>\n",
       "      <td>-0.686057</td>\n",
       "      <td>0</td>\n",
       "      <td>1</td>\n",
       "      <td>0</td>\n",
       "      <td>0</td>\n",
       "      <td>0</td>\n",
       "      <td>1</td>\n",
       "      <td>1</td>\n",
       "      <td>...</td>\n",
       "      <td>1</td>\n",
       "      <td>0</td>\n",
       "      <td>0</td>\n",
       "      <td>1</td>\n",
       "      <td>0</td>\n",
       "      <td>1</td>\n",
       "      <td>0</td>\n",
       "      <td>1</td>\n",
       "      <td>0</td>\n",
       "      <td>0</td>\n",
       "    </tr>\n",
       "    <tr>\n",
       "      <th>3584</th>\n",
       "      <td>0.333692</td>\n",
       "      <td>0</td>\n",
       "      <td>-1.012515</td>\n",
       "      <td>0</td>\n",
       "      <td>0</td>\n",
       "      <td>1</td>\n",
       "      <td>0</td>\n",
       "      <td>0</td>\n",
       "      <td>1</td>\n",
       "      <td>1</td>\n",
       "      <td>...</td>\n",
       "      <td>0</td>\n",
       "      <td>1</td>\n",
       "      <td>0</td>\n",
       "      <td>1</td>\n",
       "      <td>0</td>\n",
       "      <td>0</td>\n",
       "      <td>0</td>\n",
       "      <td>0</td>\n",
       "      <td>0</td>\n",
       "      <td>0</td>\n",
       "    </tr>\n",
       "  </tbody>\n",
       "</table>\n",
       "<p>5 rows × 21 columns</p>\n",
       "</div>"
      ],
      "text/plain": [
       "      MonthlyCharges  SeniorCitizen  client_days  Type_One year  \\\n",
       "4784       -1.506794              0    -1.300014              0   \n",
       "6851        0.994209              0     0.212711              0   \n",
       "530        -1.455346              0    -0.360942              0   \n",
       "158        -0.023120              0    -0.686057              0   \n",
       "3584        0.333692              0    -1.012515              0   \n",
       "\n",
       "      Type_Two year  PaperlessBilling_Yes  \\\n",
       "4784              0                     1   \n",
       "6851              1                     1   \n",
       "530               1                     1   \n",
       "158               1                     0   \n",
       "3584              0                     1   \n",
       "\n",
       "      PaymentMethod_Credit card (automatic)  PaymentMethod_Electronic check  \\\n",
       "4784                                      0                               0   \n",
       "6851                                      0                               0   \n",
       "530                                       1                               0   \n",
       "158                                       0                               0   \n",
       "3584                                      0                               0   \n",
       "\n",
       "      PaymentMethod_Mailed check  gender_Male  ...  Dependents_Yes  \\\n",
       "4784                           1            0  ...               0   \n",
       "6851                           0            1  ...               1   \n",
       "530                            0            0  ...               1   \n",
       "158                            1            1  ...               1   \n",
       "3584                           1            1  ...               0   \n",
       "\n",
       "      InternetService_Fiber optic  InternetService_No  OnlineSecurity_Yes  \\\n",
       "4784                            0                   1                   0   \n",
       "6851                            1                   0                   0   \n",
       "530                             0                   1                   0   \n",
       "158                             0                   0                   1   \n",
       "3584                            1                   0                   1   \n",
       "\n",
       "      OnlineBackup_Yes  DeviceProtection_Yes  TechSupport_Yes  \\\n",
       "4784                 0                     0                0   \n",
       "6851                 0                     1                1   \n",
       "530                  0                     0                0   \n",
       "158                  0                     1                0   \n",
       "3584                 0                     0                0   \n",
       "\n",
       "      StreamingTV_Yes  StreamingMovies_Yes  MultipleLines_Yes  \n",
       "4784                0                    0                  0  \n",
       "6851                1                    0                  1  \n",
       "530                 0                    0                  0  \n",
       "158                 1                    0                  0  \n",
       "3584                0                    0                  0  \n",
       "\n",
       "[5 rows x 21 columns]"
      ]
     },
     "metadata": {},
     "output_type": "display_data"
    },
    {
     "data": {
      "text/html": [
       "<div>\n",
       "<style scoped>\n",
       "    .dataframe tbody tr th:only-of-type {\n",
       "        vertical-align: middle;\n",
       "    }\n",
       "\n",
       "    .dataframe tbody tr th {\n",
       "        vertical-align: top;\n",
       "    }\n",
       "\n",
       "    .dataframe thead th {\n",
       "        text-align: right;\n",
       "    }\n",
       "</style>\n",
       "<table border=\"1\" class=\"dataframe\">\n",
       "  <thead>\n",
       "    <tr style=\"text-align: right;\">\n",
       "      <th></th>\n",
       "      <th>MonthlyCharges</th>\n",
       "      <th>SeniorCitizen</th>\n",
       "      <th>client_days</th>\n",
       "      <th>Type_One year</th>\n",
       "      <th>Type_Two year</th>\n",
       "      <th>PaperlessBilling_Yes</th>\n",
       "      <th>PaymentMethod_Credit card (automatic)</th>\n",
       "      <th>PaymentMethod_Electronic check</th>\n",
       "      <th>PaymentMethod_Mailed check</th>\n",
       "      <th>gender_Male</th>\n",
       "      <th>...</th>\n",
       "      <th>Dependents_Yes</th>\n",
       "      <th>InternetService_Fiber optic</th>\n",
       "      <th>InternetService_No</th>\n",
       "      <th>OnlineSecurity_Yes</th>\n",
       "      <th>OnlineBackup_Yes</th>\n",
       "      <th>DeviceProtection_Yes</th>\n",
       "      <th>TechSupport_Yes</th>\n",
       "      <th>StreamingTV_Yes</th>\n",
       "      <th>StreamingMovies_Yes</th>\n",
       "      <th>MultipleLines_Yes</th>\n",
       "    </tr>\n",
       "  </thead>\n",
       "  <tbody>\n",
       "    <tr>\n",
       "      <th>1436</th>\n",
       "      <td>0.878038</td>\n",
       "      <td>0</td>\n",
       "      <td>-1.259710</td>\n",
       "      <td>0</td>\n",
       "      <td>0</td>\n",
       "      <td>1</td>\n",
       "      <td>0</td>\n",
       "      <td>1</td>\n",
       "      <td>0</td>\n",
       "      <td>0</td>\n",
       "      <td>...</td>\n",
       "      <td>0</td>\n",
       "      <td>1</td>\n",
       "      <td>0</td>\n",
       "      <td>0</td>\n",
       "      <td>0</td>\n",
       "      <td>1</td>\n",
       "      <td>0</td>\n",
       "      <td>1</td>\n",
       "      <td>0</td>\n",
       "      <td>1</td>\n",
       "    </tr>\n",
       "    <tr>\n",
       "      <th>1807</th>\n",
       "      <td>0.378501</td>\n",
       "      <td>0</td>\n",
       "      <td>-1.301357</td>\n",
       "      <td>0</td>\n",
       "      <td>0</td>\n",
       "      <td>0</td>\n",
       "      <td>0</td>\n",
       "      <td>1</td>\n",
       "      <td>0</td>\n",
       "      <td>0</td>\n",
       "      <td>...</td>\n",
       "      <td>0</td>\n",
       "      <td>1</td>\n",
       "      <td>0</td>\n",
       "      <td>0</td>\n",
       "      <td>0</td>\n",
       "      <td>1</td>\n",
       "      <td>0</td>\n",
       "      <td>0</td>\n",
       "      <td>0</td>\n",
       "      <td>0</td>\n",
       "    </tr>\n",
       "    <tr>\n",
       "      <th>3791</th>\n",
       "      <td>0.137860</td>\n",
       "      <td>0</td>\n",
       "      <td>-1.094466</td>\n",
       "      <td>0</td>\n",
       "      <td>0</td>\n",
       "      <td>1</td>\n",
       "      <td>0</td>\n",
       "      <td>1</td>\n",
       "      <td>0</td>\n",
       "      <td>1</td>\n",
       "      <td>...</td>\n",
       "      <td>0</td>\n",
       "      <td>1</td>\n",
       "      <td>0</td>\n",
       "      <td>0</td>\n",
       "      <td>0</td>\n",
       "      <td>0</td>\n",
       "      <td>0</td>\n",
       "      <td>0</td>\n",
       "      <td>0</td>\n",
       "      <td>0</td>\n",
       "    </tr>\n",
       "    <tr>\n",
       "      <th>4333</th>\n",
       "      <td>0.849825</td>\n",
       "      <td>0</td>\n",
       "      <td>-0.072100</td>\n",
       "      <td>0</td>\n",
       "      <td>0</td>\n",
       "      <td>1</td>\n",
       "      <td>1</td>\n",
       "      <td>0</td>\n",
       "      <td>0</td>\n",
       "      <td>1</td>\n",
       "      <td>...</td>\n",
       "      <td>0</td>\n",
       "      <td>1</td>\n",
       "      <td>0</td>\n",
       "      <td>1</td>\n",
       "      <td>1</td>\n",
       "      <td>0</td>\n",
       "      <td>1</td>\n",
       "      <td>0</td>\n",
       "      <td>0</td>\n",
       "      <td>1</td>\n",
       "    </tr>\n",
       "    <tr>\n",
       "      <th>3640</th>\n",
       "      <td>1.027401</td>\n",
       "      <td>1</td>\n",
       "      <td>-0.155394</td>\n",
       "      <td>0</td>\n",
       "      <td>0</td>\n",
       "      <td>1</td>\n",
       "      <td>0</td>\n",
       "      <td>1</td>\n",
       "      <td>0</td>\n",
       "      <td>1</td>\n",
       "      <td>...</td>\n",
       "      <td>0</td>\n",
       "      <td>1</td>\n",
       "      <td>0</td>\n",
       "      <td>0</td>\n",
       "      <td>1</td>\n",
       "      <td>1</td>\n",
       "      <td>0</td>\n",
       "      <td>0</td>\n",
       "      <td>1</td>\n",
       "      <td>1</td>\n",
       "    </tr>\n",
       "  </tbody>\n",
       "</table>\n",
       "<p>5 rows × 21 columns</p>\n",
       "</div>"
      ],
      "text/plain": [
       "      MonthlyCharges  SeniorCitizen  client_days  Type_One year  \\\n",
       "1436        0.878038              0    -1.259710              0   \n",
       "1807        0.378501              0    -1.301357              0   \n",
       "3791        0.137860              0    -1.094466              0   \n",
       "4333        0.849825              0    -0.072100              0   \n",
       "3640        1.027401              1    -0.155394              0   \n",
       "\n",
       "      Type_Two year  PaperlessBilling_Yes  \\\n",
       "1436              0                     1   \n",
       "1807              0                     0   \n",
       "3791              0                     1   \n",
       "4333              0                     1   \n",
       "3640              0                     1   \n",
       "\n",
       "      PaymentMethod_Credit card (automatic)  PaymentMethod_Electronic check  \\\n",
       "1436                                      0                               1   \n",
       "1807                                      0                               1   \n",
       "3791                                      0                               1   \n",
       "4333                                      1                               0   \n",
       "3640                                      0                               1   \n",
       "\n",
       "      PaymentMethod_Mailed check  gender_Male  ...  Dependents_Yes  \\\n",
       "1436                           0            0  ...               0   \n",
       "1807                           0            0  ...               0   \n",
       "3791                           0            1  ...               0   \n",
       "4333                           0            1  ...               0   \n",
       "3640                           0            1  ...               0   \n",
       "\n",
       "      InternetService_Fiber optic  InternetService_No  OnlineSecurity_Yes  \\\n",
       "1436                            1                   0                   0   \n",
       "1807                            1                   0                   0   \n",
       "3791                            1                   0                   0   \n",
       "4333                            1                   0                   1   \n",
       "3640                            1                   0                   0   \n",
       "\n",
       "      OnlineBackup_Yes  DeviceProtection_Yes  TechSupport_Yes  \\\n",
       "1436                 0                     1                0   \n",
       "1807                 0                     1                0   \n",
       "3791                 0                     0                0   \n",
       "4333                 1                     0                1   \n",
       "3640                 1                     1                0   \n",
       "\n",
       "      StreamingTV_Yes  StreamingMovies_Yes  MultipleLines_Yes  \n",
       "1436                1                    0                  1  \n",
       "1807                0                    0                  0  \n",
       "3791                0                    0                  0  \n",
       "4333                0                    0                  1  \n",
       "3640                0                    1                  1  \n",
       "\n",
       "[5 rows x 21 columns]"
      ]
     },
     "metadata": {},
     "output_type": "display_data"
    }
   ],
   "source": [
    "#масштабирование признаков\n",
    "numeric = ['MonthlyCharges', 'client_days']\n",
    "scaler = StandardScaler()\n",
    "scaler.fit(features_train[numeric])\n",
    "features_train[numeric] = scaler.transform(features_train[numeric])\n",
    "features_valid[numeric] = scaler.transform(features_valid[numeric])\n",
    "features_test[numeric] = scaler.transform(features_test[numeric])\n",
    "display(features_train.head())\n",
    "display(features_valid.head())\n",
    "display(features_test.head())"
   ]
  },
  {
   "cell_type": "code",
   "execution_count": 21,
   "metadata": {
    "scrolled": true
   },
   "outputs": [
    {
     "name": "stdout",
     "output_type": "stream",
     "text": [
      "Модель DecisionTreeRegressor Параметры: 1 roc_auc_score: 0.6587301179499169 Accuracy: 0.5099573257467994\n",
      "Модель DecisionTreeRegressor Параметры: 11 roc_auc_score: 0.7889426127794921 Accuracy: 0.7773826458036984\n",
      "Модель DecisionTreeRegressor Параметры: 21 roc_auc_score: 0.7164307753967418 Accuracy: 0.7745376955903271\n",
      "Модель DecisionTreeRegressor Параметры: 31 roc_auc_score: 0.7147145796990492 Accuracy: 0.7752489331436699\n",
      "Модель DecisionTreeRegressor Параметры: 41 roc_auc_score: 0.7147145796990492 Accuracy: 0.7752489331436699\n",
      "Модель DecisionTreeRegressor Параметры: 51 roc_auc_score: 0.7147145796990492 Accuracy: 0.7752489331436699\n",
      "Модель DecisionTreeRegressor Параметры: 61 roc_auc_score: 0.7147145796990492 Accuracy: 0.7752489331436699\n",
      "Модель DecisionTreeRegressor Параметры: 71 roc_auc_score: 0.7147145796990492 Accuracy: 0.7752489331436699\n",
      "Модель DecisionTreeRegressor Параметры: 81 roc_auc_score: 0.7147145796990492 Accuracy: 0.7752489331436699\n",
      "Модель DecisionTreeRegressor Параметры: 91 roc_auc_score: 0.7147145796990492 Accuracy: 0.7752489331436699\n",
      "Модель DecisionTreeRegressor Параметры: 101 roc_auc_score: 0.7147145796990492 Accuracy: 0.7752489331436699\n",
      "Модель DecisionTreeRegressor Параметры: 111 roc_auc_score: 0.7147145796990492 Accuracy: 0.7752489331436699\n",
      "Модель DecisionTreeRegressor Параметры: 121 roc_auc_score: 0.7147145796990492 Accuracy: 0.7752489331436699\n",
      "Модель DecisionTreeRegressor Параметры: 131 roc_auc_score: 0.7147145796990492 Accuracy: 0.7752489331436699\n",
      "Модель DecisionTreeRegressor Параметры: 141 roc_auc_score: 0.7147145796990492 Accuracy: 0.7752489331436699\n",
      "Модель DecisionTreeRegressor Параметры: 151 roc_auc_score: 0.7147145796990492 Accuracy: 0.7752489331436699\n",
      "Модель DecisionTreeRegressor Параметры: 161 roc_auc_score: 0.7147145796990492 Accuracy: 0.7752489331436699\n",
      "Модель DecisionTreeRegressor Параметры: 171 roc_auc_score: 0.7147145796990492 Accuracy: 0.7752489331436699\n",
      "Модель DecisionTreeRegressor Параметры: 181 roc_auc_score: 0.7147145796990492 Accuracy: 0.7752489331436699\n",
      "Модель DecisionTreeRegressor Параметры: 191 roc_auc_score: 0.7147145796990492 Accuracy: 0.7752489331436699\n"
     ]
    }
   ],
   "source": [
    "#Модель дерево решений\n",
    "for depth in range(1, 200, 10):\n",
    "    model_dt = DecisionTreeClassifier(max_depth=depth, random_state=250722, class_weight='balanced')\n",
    "    model_dt.fit(features_train, target_train)\n",
    "    predictions_dt = model_dt.predict(features_valid)\n",
    "    probabilities_valid = model_dt.predict_proba(features_valid)\n",
    "    probabilities_one_valid = probabilities_valid[:, 1]\n",
    "    accuracy = accuracy_score(target_valid, predictions_dt)\n",
    "    print('Модель DecisionTreeRegressor', \n",
    "                'Параметры:', depth, \n",
    "                'roc_auc_score:', roc_auc_score(target_valid, probabilities_one_valid),\n",
    "                'Accuracy:', accuracy) "
   ]
  },
  {
   "cell_type": "code",
   "execution_count": 22,
   "metadata": {},
   "outputs": [
    {
     "name": "stdout",
     "output_type": "stream",
     "text": [
      "Модель DecisionTreeRegressor roc_auc_score: 0.713731243781597 Accuracy: 0.7761194029850746\n"
     ]
    }
   ],
   "source": [
    "#проверка на тесте\n",
    "model = DecisionTreeClassifier(max_depth=11, random_state=250722, class_weight='balanced')\n",
    "model.fit(features_train, target_train) \n",
    "predictions_dt = model_dt.predict(features_test)\n",
    "probabilities_test = model_dt.predict_proba(features_test)\n",
    "probabilities_one_test = probabilities_test[:, 1]\n",
    "accuracy = accuracy_score(target_test, predictions_dt)\n",
    "print('Модель DecisionTreeRegressor','roc_auc_score:', roc_auc_score(target_test, probabilities_one_test), \n",
    "      'Accuracy:', accuracy) "
   ]
  },
  {
   "cell_type": "code",
   "execution_count": 23,
   "metadata": {
    "scrolled": true
   },
   "outputs": [
    {
     "name": "stdout",
     "output_type": "stream",
     "text": [
      "Модель RandomForestClassifier Параметры: 10 roc_auc_score: 0.8403257175008286 Accuracy: 0.7880512091038406\n",
      "Модель RandomForestClassifier Параметры: 20 roc_auc_score: 0.8489092651445278 Accuracy: 0.7916073968705548\n",
      "Модель RandomForestClassifier Параметры: 30 roc_auc_score: 0.8537212929016811 Accuracy: 0.794452347083926\n",
      "Модель RandomForestClassifier Параметры: 40 roc_auc_score: 0.8535491595008645 Accuracy: 0.7859174964438123\n",
      "Модель RandomForestClassifier Параметры: 50 roc_auc_score: 0.8526653700996575 Accuracy: 0.786628733997155\n",
      "Модель RandomForestClassifier Параметры: 60 roc_auc_score: 0.852954400063715 Accuracy: 0.7930298719772404\n",
      "Модель RandomForestClassifier Параметры: 70 roc_auc_score: 0.8531946160782873 Accuracy: 0.7887624466571835\n",
      "Модель RandomForestClassifier Параметры: 80 roc_auc_score: 0.8528940249156675 Accuracy: 0.7887624466571835\n",
      "Модель RandomForestClassifier Параметры: 90 roc_auc_score: 0.8525870108649574 Accuracy: 0.7894736842105263\n",
      "Модель RandomForestClassifier Параметры: 100 roc_auc_score: 0.8524238695074673 Accuracy: 0.7894736842105263\n",
      "Модель RandomForestClassifier Параметры: 110 roc_auc_score: 0.8526242636158805 Accuracy: 0.7901849217638691\n",
      "Модель RandomForestClassifier Параметры: 120 roc_auc_score: 0.8531676399483086 Accuracy: 0.7951635846372689\n",
      "Модель RandomForestClassifier Параметры: 130 roc_auc_score: 0.853835620309686 Accuracy: 0.7916073968705548\n",
      "Модель RandomForestClassifier Параметры: 140 roc_auc_score: 0.8544470792558698 Accuracy: 0.794452347083926\n",
      "Модель RandomForestClassifier Параметры: 150 roc_auc_score: 0.8548864048012373 Accuracy: 0.7887624466571835\n",
      "Модель RandomForestClassifier Параметры: 160 roc_auc_score: 0.8551484586353161 Accuracy: 0.7908961593172119\n",
      "Модель RandomForestClassifier Параметры: 170 roc_auc_score: 0.8552820547075916 Accuracy: 0.7923186344238976\n",
      "Модель RandomForestClassifier Параметры: 180 roc_auc_score: 0.8547887769022668 Accuracy: 0.7916073968705548\n",
      "Модель RandomForestClassifier Параметры: 190 roc_auc_score: 0.8546166435014503 Accuracy: 0.7894736842105263\n",
      "Модель RandomForestClassifier Параметры: 200 roc_auc_score: 0.8545344305338961 Accuracy: 0.7908961593172119\n",
      "Модель RandomForestClassifier Параметры: 210 roc_auc_score: 0.8542929299417059 Accuracy: 0.7930298719772404\n",
      "Модель RandomForestClassifier Параметры: 220 roc_auc_score: 0.8543751429092601 Accuracy: 0.7923186344238976\n",
      "Модель RandomForestClassifier Параметры: 230 roc_auc_score: 0.8544265260139814 Accuracy: 0.7923186344238976\n",
      "Модель RandomForestClassifier Параметры: 240 roc_auc_score: 0.8544522175663422 Accuracy: 0.7923186344238976\n",
      "Модель RandomForestClassifier Параметры: 250 roc_auc_score: 0.8549429262164309 Accuracy: 0.7908961593172119\n",
      "Модель RandomForestClassifier Параметры: 260 roc_auc_score: 0.8550765222887062 Accuracy: 0.7901849217638691\n",
      "Модель RandomForestClassifier Параметры: 270 roc_auc_score: 0.8551998417400375 Accuracy: 0.7901849217638691\n",
      "Модель RandomForestClassifier Параметры: 280 roc_auc_score: 0.8553694059856177 Accuracy: 0.7901849217638691\n",
      "Модель RandomForestClassifier Параметры: 290 roc_auc_score: 0.8555132786788375 Accuracy: 0.7916073968705548\n",
      "Модель RandomForestClassifier Параметры: 300 roc_auc_score: 0.8551690118772047 Accuracy: 0.7923186344238976\n"
     ]
    }
   ],
   "source": [
    "#Модель случайный лес\n",
    "for estimator in range(10, 301, 10):\n",
    "    model_rf = RandomForestClassifier(max_depth = 11, n_estimators=estimator, random_state=250722, class_weight='balanced')\n",
    "    model_rf.fit(features_train, target_train)\n",
    "    predictions_rf = model_rf.predict(features_valid)\n",
    "    probabilities_valid = model_rf.predict_proba(features_valid)\n",
    "    probabilities_one_valid = probabilities_valid[:, 1]\n",
    "    print('Модель RandomForestClassifier', \n",
    "                'Параметры:', estimator, \n",
    "                'roc_auc_score:', roc_auc_score(target_valid, probabilities_one_valid),\n",
    "                'Accuracy:', accuracy_score(target_valid, predictions_rf))"
   ]
  },
  {
   "cell_type": "code",
   "execution_count": 24,
   "metadata": {},
   "outputs": [
    {
     "name": "stdout",
     "output_type": "stream",
     "text": [
      "Модель RandomForestClassifier roc_auc_score: 0.8512280241008884 Accuracy: 0.7974413646055437\n"
     ]
    }
   ],
   "source": [
    "#проверка на тесте\n",
    "model_rf = RandomForestClassifier(max_depth=11, n_estimators = 290, random_state=250722, class_weight='balanced')\n",
    "model_rf.fit(features_train, target_train) \n",
    "predictions_rf = model_rf.predict(features_test)\n",
    "probabilities_test = model_rf.predict_proba(features_test)\n",
    "probabilities_one_test = probabilities_test[:, 1]\n",
    "accuracy = accuracy_score(target_test, predictions_rf)\n",
    "print('Модель RandomForestClassifier','roc_auc_score:', roc_auc_score(target_test, probabilities_one_test), \n",
    "      'Accuracy:', accuracy) "
   ]
  },
  {
   "cell_type": "code",
   "execution_count": 25,
   "metadata": {},
   "outputs": [
    {
     "name": "stdout",
     "output_type": "stream",
     "text": [
      "Модель LogisticRegression roc_auc_score: 0.8537662531183122 Accuracy: 0.7958748221906117\n"
     ]
    }
   ],
   "source": [
    "#модель логистической регрессии \n",
    "model = LogisticRegression(random_state=250722)\n",
    "model.fit(features_train, target_train)\n",
    "answer = model.predict(features_valid)\n",
    "probabilities_valid = model.predict_proba(features_valid)\n",
    "probabilities_one_valid = probabilities_valid[:, 1]\n",
    "accuracy = accuracy_score(target_valid, answer)\n",
    "print('Модель LogisticRegression','roc_auc_score:', roc_auc_score(target_valid, probabilities_one_valid),'Accuracy:', accuracy)"
   ]
  },
  {
   "cell_type": "code",
   "execution_count": 26,
   "metadata": {},
   "outputs": [
    {
     "name": "stdout",
     "output_type": "stream",
     "text": [
      "Модель LogisticRegression roc_auc_score: 0.8306877237993747 Accuracy: 0.7903340440653873\n"
     ]
    }
   ],
   "source": [
    "#проверка на тесте\n",
    "model = LogisticRegression(random_state=250722)\n",
    "model.fit(features_train, target_train)\n",
    "answer = model.predict(features_test)\n",
    "probabilities_test = model.predict_proba(features_test)\n",
    "probabilities_one_test = probabilities_test[:, 1]\n",
    "accuracy = accuracy_score(target_test, answer)\n",
    "print('Модель LogisticRegression','roc_auc_score:', roc_auc_score(target_test, probabilities_one_test),'Accuracy:', accuracy)"
   ]
  },
  {
   "cell_type": "code",
   "execution_count": 27,
   "metadata": {},
   "outputs": [
    {
     "name": "stdout",
     "output_type": "stream",
     "text": [
      "(4219, 17)\n",
      "(4219,)\n",
      "(1406, 17)\n",
      "(1406,)\n",
      "(1407, 17)\n",
      "(1407,)\n"
     ]
    }
   ],
   "source": [
    "#модель Catboost\n",
    "\n",
    "data_train_ct, data_valid_ct = train_test_split(data_full, train_size=0.6, random_state=250722)\n",
    "data_valid_ct, data_test_ct = train_test_split(data_valid_ct, test_size=0.5, random_state=250722)\n",
    "\n",
    "features_train_ct = data_train_ct.drop(['left_or_not'], axis=1) \n",
    "target_train_ct = data_train_ct['left_or_not']\n",
    "features_valid_ct = data_valid_ct.drop(['left_or_not'], axis=1) \n",
    "target_valid_ct = data_valid_ct['left_or_not']\n",
    "features_test_ct = data_test_ct.drop(['left_or_not'], axis=1) \n",
    "target_test_ct = data_test_ct['left_or_not']\n",
    "\n",
    "print(features_train_ct.shape)\n",
    "print(target_train_ct.shape)\n",
    "print(features_valid_ct.shape)\n",
    "print(target_valid_ct.shape)\n",
    "print(features_test_ct.shape)\n",
    "print(target_test_ct.shape)"
   ]
  },
  {
   "cell_type": "code",
   "execution_count": 28,
   "metadata": {},
   "outputs": [],
   "source": [
    "cat_features = ['Type', 'PaperlessBilling', 'PaymentMethod', \n",
    "                'gender', 'SeniorCitizen', 'Partner', 'Dependents', 'InternetService', \n",
    "                'OnlineSecurity', 'OnlineBackup', 'DeviceProtection', 'TechSupport', 'StreamingTV', \n",
    "                'StreamingMovies', 'MultipleLines']"
   ]
  },
  {
   "cell_type": "code",
   "execution_count": 29,
   "metadata": {
    "scrolled": true
   },
   "outputs": [
    {
     "name": "stdout",
     "output_type": "stream",
     "text": [
      "Learning rate set to 0.03597\n",
      "0:\tlearn: 0.6690323\ttotal: 56.4ms\tremaining: 28.1s\n",
      "10:\tlearn: 0.5190775\ttotal: 118ms\tremaining: 5.26s\n",
      "20:\tlearn: 0.4554130\ttotal: 171ms\tremaining: 3.9s\n",
      "30:\tlearn: 0.4253072\ttotal: 225ms\tremaining: 3.4s\n",
      "40:\tlearn: 0.4107361\ttotal: 272ms\tremaining: 3.04s\n",
      "50:\tlearn: 0.3968545\ttotal: 327ms\tremaining: 2.88s\n",
      "60:\tlearn: 0.3906447\ttotal: 373ms\tremaining: 2.68s\n",
      "70:\tlearn: 0.3826126\ttotal: 431ms\tremaining: 2.61s\n",
      "80:\tlearn: 0.3774114\ttotal: 491ms\tremaining: 2.54s\n",
      "90:\tlearn: 0.3726495\ttotal: 545ms\tremaining: 2.45s\n",
      "100:\tlearn: 0.3687280\ttotal: 614ms\tremaining: 2.42s\n",
      "110:\tlearn: 0.3659304\ttotal: 671ms\tremaining: 2.35s\n",
      "120:\tlearn: 0.3624215\ttotal: 740ms\tremaining: 2.32s\n",
      "130:\tlearn: 0.3592591\ttotal: 808ms\tremaining: 2.27s\n",
      "140:\tlearn: 0.3568525\ttotal: 864ms\tremaining: 2.2s\n",
      "150:\tlearn: 0.3549032\ttotal: 931ms\tremaining: 2.15s\n",
      "160:\tlearn: 0.3533110\ttotal: 995ms\tremaining: 2.09s\n",
      "170:\tlearn: 0.3508998\ttotal: 1.07s\tremaining: 2.07s\n",
      "180:\tlearn: 0.3494491\ttotal: 1.14s\tremaining: 2s\n",
      "190:\tlearn: 0.3481161\ttotal: 1.2s\tremaining: 1.95s\n",
      "200:\tlearn: 0.3466113\ttotal: 1.26s\tremaining: 1.87s\n",
      "210:\tlearn: 0.3436029\ttotal: 1.31s\tremaining: 1.79s\n",
      "220:\tlearn: 0.3425381\ttotal: 1.36s\tremaining: 1.71s\n",
      "230:\tlearn: 0.3397398\ttotal: 1.41s\tremaining: 1.64s\n",
      "240:\tlearn: 0.3370095\ttotal: 1.47s\tremaining: 1.58s\n",
      "250:\tlearn: 0.3337058\ttotal: 1.53s\tremaining: 1.52s\n",
      "260:\tlearn: 0.3309635\ttotal: 1.59s\tremaining: 1.45s\n",
      "270:\tlearn: 0.3285614\ttotal: 1.65s\tremaining: 1.39s\n",
      "280:\tlearn: 0.3254309\ttotal: 1.71s\tremaining: 1.34s\n",
      "290:\tlearn: 0.3231789\ttotal: 1.77s\tremaining: 1.27s\n",
      "300:\tlearn: 0.3212221\ttotal: 1.83s\tremaining: 1.21s\n",
      "310:\tlearn: 0.3179844\ttotal: 1.89s\tremaining: 1.15s\n",
      "320:\tlearn: 0.3151876\ttotal: 1.94s\tremaining: 1.08s\n",
      "330:\tlearn: 0.3125381\ttotal: 2s\tremaining: 1.02s\n",
      "340:\tlearn: 0.3101122\ttotal: 2.06s\tremaining: 963ms\n",
      "350:\tlearn: 0.3070360\ttotal: 2.12s\tremaining: 900ms\n",
      "360:\tlearn: 0.3046709\ttotal: 2.18s\tremaining: 840ms\n",
      "370:\tlearn: 0.3023033\ttotal: 2.25s\tremaining: 782ms\n",
      "380:\tlearn: 0.2998549\ttotal: 2.31s\tremaining: 722ms\n",
      "390:\tlearn: 0.2979181\ttotal: 2.38s\tremaining: 664ms\n",
      "400:\tlearn: 0.2958857\ttotal: 2.45s\tremaining: 604ms\n",
      "410:\tlearn: 0.2944109\ttotal: 2.51s\tremaining: 544ms\n",
      "420:\tlearn: 0.2925407\ttotal: 2.58s\tremaining: 483ms\n",
      "430:\tlearn: 0.2911025\ttotal: 2.65s\tremaining: 424ms\n",
      "440:\tlearn: 0.2894450\ttotal: 2.71s\tremaining: 363ms\n",
      "450:\tlearn: 0.2874518\ttotal: 2.77s\tremaining: 301ms\n",
      "460:\tlearn: 0.2849343\ttotal: 2.83s\tremaining: 240ms\n",
      "470:\tlearn: 0.2831979\ttotal: 2.91s\tremaining: 179ms\n",
      "480:\tlearn: 0.2802000\ttotal: 2.98s\tremaining: 118ms\n",
      "490:\tlearn: 0.2786061\ttotal: 3.04s\tremaining: 55.7ms\n",
      "499:\tlearn: 0.2771612\ttotal: 3.09s\tremaining: 0us\n",
      "0.8998967199595101\n",
      "0.8392603129445235\n"
     ]
    }
   ],
   "source": [
    "model = CatBoostClassifier(loss_function=\"Logloss\", iterations=500, random_state=250722)\n",
    "\n",
    "model.fit(features_train_ct, target_train_ct, cat_features=cat_features, verbose=10)\n",
    "predictions = model.predict(features_valid_ct)\n",
    "probabilities_valid = model.predict_proba(features_valid_ct)\n",
    "probabilities_one_valid = probabilities_valid[:, 1]\n",
    "print(roc_auc_score(target_valid_ct, probabilities_one_valid))\n",
    "print(accuracy_score(target_valid, predictions))"
   ]
  },
  {
   "cell_type": "code",
   "execution_count": 30,
   "metadata": {
    "scrolled": true
   },
   "outputs": [
    {
     "name": "stdout",
     "output_type": "stream",
     "text": [
      "Learning rate set to 0.03597\n",
      "0:\tlearn: 0.6690323\ttotal: 6.75ms\tremaining: 3.37s\n",
      "10:\tlearn: 0.5190775\ttotal: 66.3ms\tremaining: 2.94s\n",
      "20:\tlearn: 0.4554130\ttotal: 122ms\tremaining: 2.79s\n",
      "30:\tlearn: 0.4253072\ttotal: 178ms\tremaining: 2.69s\n",
      "40:\tlearn: 0.4107361\ttotal: 225ms\tremaining: 2.52s\n",
      "50:\tlearn: 0.3968545\ttotal: 280ms\tremaining: 2.47s\n",
      "60:\tlearn: 0.3906447\ttotal: 324ms\tremaining: 2.33s\n",
      "70:\tlearn: 0.3826126\ttotal: 394ms\tremaining: 2.38s\n",
      "80:\tlearn: 0.3774114\ttotal: 454ms\tremaining: 2.35s\n",
      "90:\tlearn: 0.3726495\ttotal: 509ms\tremaining: 2.29s\n",
      "100:\tlearn: 0.3687280\ttotal: 578ms\tremaining: 2.28s\n",
      "110:\tlearn: 0.3659304\ttotal: 643ms\tremaining: 2.25s\n",
      "120:\tlearn: 0.3624215\ttotal: 709ms\tremaining: 2.22s\n",
      "130:\tlearn: 0.3592591\ttotal: 771ms\tremaining: 2.17s\n",
      "140:\tlearn: 0.3568525\ttotal: 835ms\tremaining: 2.12s\n",
      "150:\tlearn: 0.3549032\ttotal: 892ms\tremaining: 2.06s\n",
      "160:\tlearn: 0.3533110\ttotal: 943ms\tremaining: 1.99s\n",
      "170:\tlearn: 0.3508998\ttotal: 1s\tremaining: 1.93s\n",
      "180:\tlearn: 0.3494491\ttotal: 1.04s\tremaining: 1.84s\n",
      "190:\tlearn: 0.3481161\ttotal: 1.1s\tremaining: 1.78s\n",
      "200:\tlearn: 0.3466113\ttotal: 1.16s\tremaining: 1.72s\n",
      "210:\tlearn: 0.3436029\ttotal: 1.21s\tremaining: 1.66s\n",
      "220:\tlearn: 0.3425381\ttotal: 1.26s\tremaining: 1.59s\n",
      "230:\tlearn: 0.3397398\ttotal: 1.34s\tremaining: 1.56s\n",
      "240:\tlearn: 0.3370095\ttotal: 1.4s\tremaining: 1.5s\n",
      "250:\tlearn: 0.3337058\ttotal: 1.46s\tremaining: 1.45s\n",
      "260:\tlearn: 0.3309635\ttotal: 1.54s\tremaining: 1.41s\n",
      "270:\tlearn: 0.3285614\ttotal: 1.59s\tremaining: 1.35s\n",
      "280:\tlearn: 0.3254309\ttotal: 1.66s\tremaining: 1.29s\n",
      "290:\tlearn: 0.3231789\ttotal: 1.72s\tremaining: 1.24s\n",
      "300:\tlearn: 0.3212221\ttotal: 1.79s\tremaining: 1.18s\n",
      "310:\tlearn: 0.3179844\ttotal: 1.86s\tremaining: 1.13s\n",
      "320:\tlearn: 0.3151876\ttotal: 1.92s\tremaining: 1.07s\n",
      "330:\tlearn: 0.3125381\ttotal: 1.99s\tremaining: 1.01s\n",
      "340:\tlearn: 0.3101122\ttotal: 2.06s\tremaining: 959ms\n",
      "350:\tlearn: 0.3070360\ttotal: 2.12s\tremaining: 901ms\n",
      "360:\tlearn: 0.3046709\ttotal: 2.18s\tremaining: 840ms\n",
      "370:\tlearn: 0.3023033\ttotal: 2.25s\tremaining: 783ms\n",
      "380:\tlearn: 0.2998549\ttotal: 2.33s\tremaining: 727ms\n",
      "390:\tlearn: 0.2979181\ttotal: 2.4s\tremaining: 669ms\n",
      "400:\tlearn: 0.2958857\ttotal: 2.47s\tremaining: 610ms\n",
      "410:\tlearn: 0.2944109\ttotal: 2.53s\tremaining: 548ms\n",
      "420:\tlearn: 0.2925407\ttotal: 2.59s\tremaining: 487ms\n",
      "430:\tlearn: 0.2911025\ttotal: 2.66s\tremaining: 425ms\n",
      "440:\tlearn: 0.2894450\ttotal: 2.72s\tremaining: 364ms\n",
      "450:\tlearn: 0.2874518\ttotal: 2.79s\tremaining: 303ms\n",
      "460:\tlearn: 0.2849343\ttotal: 2.87s\tremaining: 243ms\n",
      "470:\tlearn: 0.2831979\ttotal: 2.95s\tremaining: 182ms\n",
      "480:\tlearn: 0.2802000\ttotal: 3.02s\tremaining: 119ms\n",
      "490:\tlearn: 0.2786061\ttotal: 3.09s\tremaining: 56.6ms\n",
      "499:\tlearn: 0.2771612\ttotal: 3.14s\tremaining: 0us\n",
      "0.8814955480022828\n",
      "0.8422174840085288\n"
     ]
    }
   ],
   "source": [
    "#проверка на тесте\n",
    "model = CatBoostClassifier(loss_function=\"Logloss\", iterations=500, random_state=250722)\n",
    "\n",
    "model.fit(features_train_ct, target_train_ct, cat_features=cat_features, verbose=10)\n",
    "predictions = model.predict(features_test_ct)\n",
    "probabilities_test = model.predict_proba(features_test_ct)\n",
    "probabilities_one_test = probabilities_test[:, 1]\n",
    "print(roc_auc_score(target_test_ct, probabilities_one_test))\n",
    "print(accuracy_score(target_test, predictions))"
   ]
  },
  {
   "cell_type": "code",
   "execution_count": 31,
   "metadata": {},
   "outputs": [
    {
     "data": {
      "image/png": "[encoded data removed]",
      "text/plain": [
       "<Figure size 432x288 with 1 Axes>"
      ]
     },
     "metadata": {
      "needs_background": "light"
     },
     "output_type": "display_data"
    }
   ],
   "source": [
    "fpr, tpr, thresholds = fpr, tpr, thresholds = roc_curve(target_test_ct, probabilities_one_test)\n",
    "\n",
    "plt.figure()\n",
    "plt.plot(fpr, tpr)\n",
    "plt.plot([0, 1], [0, 1], linestyle='--')\n",
    "plt.xlim([0.0, 1.0])\n",
    "plt.ylim([0.0, 1.0])\n",
    "plt.xlabel('False Positive Rate')\n",
    "plt.ylabel('True Positive Rate')\n",
    "plt.title('ROC-кривая')\n",
    "plt.show() "
   ]
  },
  {
   "cell_type": "code",
   "execution_count": 32,
   "metadata": {},
   "outputs": [
    {
     "data": {
      "image/png": "[encoded data removed]",
      "text/plain": [
       "<Figure size 864x360 with 1 Axes>"
      ]
     },
     "metadata": {
      "needs_background": "light"
     },
     "output_type": "display_data"
    }
   ],
   "source": [
    "cat_imp = pd.Series(model.get_feature_importance(),\n",
    "                          data_train_ct.drop(['left_or_not'], axis=1).columns)\n",
    "fig, ax = plt.subplots(figsize=(12,5))\n",
    "cat_imp.plot.bar(ax=ax)\n",
    "ax.set_title(\"Важность признаков\")\n",
    "fig.tight_layout()"
   ]
  },
  {
   "cell_type": "markdown",
   "metadata": {},
   "source": [
    "## Сравнение метрик и выбор оптимальной модели"
   ]
  },
  {
   "cell_type": "markdown",
   "metadata": {},
   "source": [
    "Мы провели обучение моделей решающего дерева, случайного леса, логистической регрессии и градинетного бустинга Catboost. \n",
    "\n",
    "У модели решающего дерева лучшая метрика наблюдается при глубине 11  roc_auc_score: 0.7137 Accuracy: 0.776\n",
    "\n",
    "У модели случайного леса лучшая метрика наблюдается при глубине 11 и 290 дереверьев roc_auc_score: 0.8512 Accuracy: 0.797\n",
    "\n",
    "У модели логистической регрессии roc_auc_score: 0.83068 Accuracy: 0.790\n",
    "\n",
    "И самой лучшей моделью по метрике AUC-ROC стала модель Catboost при 500 итераций с AUC-ROC - 0.88149 Accuracy: 0.842"
   ]
  },
  {
   "cell_type": "markdown",
   "metadata": {},
   "source": [
    "Также у модели Catboost мы построили график важности признаков и на основании этого графика можно сделать вывод, что самыми важными признаками являются сколько дней клиент уже пользуется услугами, тип договора (чаще всего клиенты уходят с помесячного типа оплаты), ежемесячная плата, интернет услуги и способ оплаты."
   ]
  },
  {
   "cell_type": "markdown",
   "metadata": {},
   "source": [
    "## Отчет"
   ]
  },
  {
   "cell_type": "markdown",
   "metadata": {},
   "source": [
    "# Какие пункты плана были выполнены, а какие — нет ?\n",
    "В целом все пункты плана были выполнены, а именно была проведена загрузка данных и их первичных осмотр, слияние таблиц, приведение к нужному типу данных, работа с пропусками и дубликатами. Я отказалась от приведение даты окончания договора к нужному типу, так как в конечном итоге данные этой колонки были удалены, чтобы не образовалась \"утечка\" данных и это не исказило корректную работу модели. Третий пункт плана был дополнен и разделение датасета помимо тренировочной и тестовой части, было дополнено выделением валидационной части (так как подбор осуществлялся в цикле, а не на кросс-валидации), также было выделение целевого признака. 4 и 5 пункты плана были выполнены полностью, было обучено 4 модели, посчитаны метрики и проверены на тестовой выборке, затем была выбрана модель с наилучшими показателями.\n",
    "\n",
    "#  Какие трудности возникли и как вы их преодолели?\n",
    "Первая трудность с переводом EndDate. Решение удалить данный столбец, предварительно создав целевой признак на его основе и добавив столбец \"срок жизни клиента\". Вторая трудность с составления графика важностей факторов, так как я раньше не сталкивалась с таким заданием. Но изучив документацию, все получилось. Третья трудность - это несбалансированная классификация, я проверила модели и их результаты сначала на сырых данных, потом на сбалансированных, после балансировки некоторые показатели метрик выросли. 4ая - подсчет количества дней жизни клиента, но прочитав про метод .days, а также пообщавшись с коллегами у меня получилась удобная функция, которая дополняет таблицу с данными.\n",
    "\n",
    "# Какие ключевые шаги в решении задачи выделили?\n",
    "Здесь все было достаточно стандартно:\n",
    "\n",
    "предобработка данных;\n",
    "выбор моделей классификации, подготовка признаков\n",
    "обучение моделей, подбор параметров\n",
    "сравнение моделей по метрикам\n",
    "#  Какая ваша итоговая модель и какое у неё качество?\n",
    "\n",
    "Итоговая модель Catboost с AUC-ROC - 0.88149 Accuracy: 0.842 на тестовой выборке (500 итераций)"
   ]
  }
 ],
 "metadata": {
  "ExecuteTimeLog": [
   {
    "duration": 428,
    "start_time": "2022-07-28T06:53:09.599Z"
   },
   {
    "duration": 184,
    "start_time": "2022-07-28T06:53:18.088Z"
   },
   {
    "duration": 161,
    "start_time": "2022-07-28T06:53:31.643Z"
   },
   {
    "duration": 103,
    "start_time": "2022-07-28T06:53:56.339Z"
   },
   {
    "duration": 116,
    "start_time": "2022-07-28T06:54:05.617Z"
   },
   {
    "duration": 67,
    "start_time": "2022-07-28T06:54:26.828Z"
   },
   {
    "duration": 25,
    "start_time": "2022-07-28T06:54:52.819Z"
   },
   {
    "duration": 10,
    "start_time": "2022-07-28T06:55:04.885Z"
   },
   {
    "duration": 36,
    "start_time": "2022-07-28T07:09:35.660Z"
   },
   {
    "duration": 6,
    "start_time": "2022-07-28T07:12:09.273Z"
   },
   {
    "duration": 11,
    "start_time": "2022-07-28T07:14:13.669Z"
   },
   {
    "duration": 27,
    "start_time": "2022-07-28T08:13:35.211Z"
   },
   {
    "duration": 14,
    "start_time": "2022-07-28T08:13:48.792Z"
   },
   {
    "duration": 7,
    "start_time": "2022-07-28T08:15:31.777Z"
   },
   {
    "duration": 6,
    "start_time": "2022-07-28T08:15:51.905Z"
   },
   {
    "duration": 5,
    "start_time": "2022-07-28T08:16:59.780Z"
   },
   {
    "duration": 44,
    "start_time": "2022-07-28T08:20:40.281Z"
   },
   {
    "duration": 32,
    "start_time": "2022-07-28T08:21:47.080Z"
   },
   {
    "duration": 34,
    "start_time": "2022-07-28T08:22:18.001Z"
   },
   {
    "duration": 10,
    "start_time": "2022-07-28T08:22:30.693Z"
   },
   {
    "duration": 5,
    "start_time": "2022-07-28T08:22:38.177Z"
   },
   {
    "duration": 5,
    "start_time": "2022-07-28T08:22:44.004Z"
   },
   {
    "duration": 7,
    "start_time": "2022-07-28T08:23:05.574Z"
   },
   {
    "duration": 7,
    "start_time": "2022-07-28T08:23:18.093Z"
   },
   {
    "duration": 6,
    "start_time": "2022-07-28T08:23:29.848Z"
   },
   {
    "duration": 7,
    "start_time": "2022-07-28T08:23:36.924Z"
   },
   {
    "duration": 5,
    "start_time": "2022-07-28T08:23:53.583Z"
   },
   {
    "duration": 44,
    "start_time": "2022-07-28T08:28:29.157Z"
   },
   {
    "duration": 30,
    "start_time": "2022-07-28T08:28:51.847Z"
   },
   {
    "duration": 21,
    "start_time": "2022-07-28T08:29:07.601Z"
   },
   {
    "duration": 15,
    "start_time": "2022-07-28T08:30:39.314Z"
   },
   {
    "duration": 7,
    "start_time": "2022-07-28T08:32:56.532Z"
   },
   {
    "duration": 435,
    "start_time": "2022-07-28T08:33:23.850Z"
   },
   {
    "duration": 71,
    "start_time": "2022-07-28T08:33:24.287Z"
   },
   {
    "duration": 36,
    "start_time": "2022-07-28T08:33:24.362Z"
   },
   {
    "duration": 36,
    "start_time": "2022-07-28T08:33:24.400Z"
   },
   {
    "duration": 34,
    "start_time": "2022-07-28T08:33:24.438Z"
   },
   {
    "duration": 53,
    "start_time": "2022-07-28T08:33:24.479Z"
   },
   {
    "duration": 16,
    "start_time": "2022-07-28T08:33:24.533Z"
   },
   {
    "duration": 49,
    "start_time": "2022-07-28T08:33:24.550Z"
   },
   {
    "duration": 8,
    "start_time": "2022-07-28T08:33:24.601Z"
   },
   {
    "duration": 80,
    "start_time": "2022-07-28T08:33:24.611Z"
   },
   {
    "duration": 8,
    "start_time": "2022-07-28T08:33:24.697Z"
   },
   {
    "duration": 9,
    "start_time": "2022-07-28T08:34:47.423Z"
   },
   {
    "duration": 60,
    "start_time": "2022-07-28T08:35:44.331Z"
   },
   {
    "duration": 195,
    "start_time": "2022-07-28T08:45:03.130Z"
   },
   {
    "duration": 200,
    "start_time": "2022-07-28T08:45:25.757Z"
   },
   {
    "duration": 193,
    "start_time": "2022-07-28T08:46:57.886Z"
   },
   {
    "duration": 59,
    "start_time": "2022-07-28T08:48:10.877Z"
   },
   {
    "duration": 66,
    "start_time": "2022-07-28T08:48:19.134Z"
   },
   {
    "duration": 224,
    "start_time": "2022-07-28T08:48:29.408Z"
   },
   {
    "duration": 24,
    "start_time": "2022-07-28T08:49:32.840Z"
   },
   {
    "duration": 77,
    "start_time": "2022-07-28T10:20:23.680Z"
   },
   {
    "duration": 13,
    "start_time": "2022-07-28T10:20:46.433Z"
   },
   {
    "duration": 7,
    "start_time": "2022-07-28T10:22:39.434Z"
   },
   {
    "duration": 12,
    "start_time": "2022-07-28T10:23:17.121Z"
   },
   {
    "duration": 20,
    "start_time": "2022-07-28T10:23:44.492Z"
   },
   {
    "duration": 170,
    "start_time": "2022-07-28T10:28:38.518Z"
   },
   {
    "duration": 6,
    "start_time": "2022-07-28T10:31:34.484Z"
   },
   {
    "duration": 21,
    "start_time": "2022-07-28T10:31:36.626Z"
   },
   {
    "duration": 432,
    "start_time": "2022-07-28T10:37:00.852Z"
   },
   {
    "duration": 73,
    "start_time": "2022-07-28T10:37:01.286Z"
   },
   {
    "duration": 36,
    "start_time": "2022-07-28T10:37:01.360Z"
   },
   {
    "duration": 37,
    "start_time": "2022-07-28T10:37:01.398Z"
   },
   {
    "duration": 31,
    "start_time": "2022-07-28T10:37:01.437Z"
   },
   {
    "duration": 77,
    "start_time": "2022-07-28T10:37:01.469Z"
   },
   {
    "duration": 23,
    "start_time": "2022-07-28T10:37:01.561Z"
   },
   {
    "duration": 29,
    "start_time": "2022-07-28T10:37:01.587Z"
   },
   {
    "duration": 6,
    "start_time": "2022-07-28T10:37:01.617Z"
   },
   {
    "duration": 75,
    "start_time": "2022-07-28T10:37:01.624Z"
   },
   {
    "duration": 8,
    "start_time": "2022-07-28T10:37:01.702Z"
   },
   {
    "duration": 53,
    "start_time": "2022-07-28T10:37:01.712Z"
   },
   {
    "duration": 195,
    "start_time": "2022-07-28T10:37:01.767Z"
   },
   {
    "duration": 20,
    "start_time": "2022-07-28T10:37:01.965Z"
   },
   {
    "duration": 145,
    "start_time": "2022-07-28T10:37:01.986Z"
   },
   {
    "duration": 4,
    "start_time": "2022-07-28T10:37:02.133Z"
   },
   {
    "duration": 40,
    "start_time": "2022-07-28T10:37:02.139Z"
   },
   {
    "duration": 870,
    "start_time": "2022-07-28T10:42:32.479Z"
   },
   {
    "duration": 1053,
    "start_time": "2022-07-28T10:44:01.603Z"
   },
   {
    "duration": 417,
    "start_time": "2022-07-28T10:44:20.340Z"
   },
   {
    "duration": 70,
    "start_time": "2022-07-28T10:44:20.762Z"
   },
   {
    "duration": 34,
    "start_time": "2022-07-28T10:44:20.834Z"
   },
   {
    "duration": 39,
    "start_time": "2022-07-28T10:44:20.869Z"
   },
   {
    "duration": 27,
    "start_time": "2022-07-28T10:44:20.911Z"
   },
   {
    "duration": 65,
    "start_time": "2022-07-28T10:44:20.940Z"
   },
   {
    "duration": 21,
    "start_time": "2022-07-28T10:44:21.007Z"
   },
   {
    "duration": 39,
    "start_time": "2022-07-28T10:44:21.030Z"
   },
   {
    "duration": 6,
    "start_time": "2022-07-28T10:44:21.071Z"
   },
   {
    "duration": 37,
    "start_time": "2022-07-28T10:44:21.079Z"
   },
   {
    "duration": 44,
    "start_time": "2022-07-28T10:44:21.118Z"
   },
   {
    "duration": 18,
    "start_time": "2022-07-28T10:44:21.163Z"
   },
   {
    "duration": 198,
    "start_time": "2022-07-28T10:44:21.183Z"
   },
   {
    "duration": 16,
    "start_time": "2022-07-28T10:44:21.384Z"
   },
   {
    "duration": 136,
    "start_time": "2022-07-28T10:44:21.402Z"
   },
   {
    "duration": 7,
    "start_time": "2022-07-28T10:44:21.540Z"
   },
   {
    "duration": 32,
    "start_time": "2022-07-28T10:44:21.549Z"
   },
   {
    "duration": 459,
    "start_time": "2022-07-29T12:04:01.652Z"
   },
   {
    "duration": 160,
    "start_time": "2022-07-29T12:04:02.114Z"
   },
   {
    "duration": 112,
    "start_time": "2022-07-29T12:04:02.275Z"
   },
   {
    "duration": 78,
    "start_time": "2022-07-29T12:04:02.389Z"
   },
   {
    "duration": 64,
    "start_time": "2022-07-29T12:04:02.469Z"
   },
   {
    "duration": 61,
    "start_time": "2022-07-29T12:04:02.536Z"
   },
   {
    "duration": 45,
    "start_time": "2022-07-29T12:04:02.599Z"
   },
   {
    "duration": 22,
    "start_time": "2022-07-29T12:04:02.646Z"
   },
   {
    "duration": 7,
    "start_time": "2022-07-29T12:04:02.670Z"
   },
   {
    "duration": 91,
    "start_time": "2022-07-29T12:04:02.678Z"
   },
   {
    "duration": 13,
    "start_time": "2022-07-29T12:04:02.770Z"
   },
   {
    "duration": 17,
    "start_time": "2022-07-29T12:04:02.785Z"
   },
   {
    "duration": 228,
    "start_time": "2022-07-29T12:04:02.804Z"
   },
   {
    "duration": 23,
    "start_time": "2022-07-29T12:04:03.035Z"
   },
   {
    "duration": 154,
    "start_time": "2022-07-29T12:04:03.060Z"
   },
   {
    "duration": 7,
    "start_time": "2022-07-29T12:04:03.224Z"
   },
   {
    "duration": 27,
    "start_time": "2022-07-29T12:04:03.234Z"
   },
   {
    "duration": 99,
    "start_time": "2022-07-29T12:04:03.263Z"
   },
   {
    "duration": 677,
    "start_time": "2022-07-29T12:04:29.182Z"
   },
   {
    "duration": 110,
    "start_time": "2022-07-29T12:04:33.772Z"
   },
   {
    "duration": 8,
    "start_time": "2022-07-29T12:05:33.547Z"
   },
   {
    "duration": 12,
    "start_time": "2022-07-29T12:09:28.070Z"
   },
   {
    "duration": 50,
    "start_time": "2022-07-29T12:10:58.099Z"
   },
   {
    "duration": 76,
    "start_time": "2022-07-29T12:22:41.637Z"
   },
   {
    "duration": 4,
    "start_time": "2022-07-29T12:24:28.153Z"
   },
   {
    "duration": 5,
    "start_time": "2022-07-29T12:26:42.004Z"
   },
   {
    "duration": 74,
    "start_time": "2022-07-29T12:26:42.011Z"
   },
   {
    "duration": 32,
    "start_time": "2022-07-29T12:26:42.087Z"
   },
   {
    "duration": 35,
    "start_time": "2022-07-29T12:26:42.121Z"
   },
   {
    "duration": 27,
    "start_time": "2022-07-29T12:26:42.158Z"
   },
   {
    "duration": 52,
    "start_time": "2022-07-29T12:26:42.186Z"
   },
   {
    "duration": 16,
    "start_time": "2022-07-29T12:26:42.240Z"
   },
   {
    "duration": 21,
    "start_time": "2022-07-29T12:26:42.257Z"
   },
   {
    "duration": 5,
    "start_time": "2022-07-29T12:26:42.280Z"
   },
   {
    "duration": 63,
    "start_time": "2022-07-29T12:26:42.287Z"
   },
   {
    "duration": 5,
    "start_time": "2022-07-29T12:26:42.352Z"
   },
   {
    "duration": 12,
    "start_time": "2022-07-29T12:26:42.358Z"
   },
   {
    "duration": 280,
    "start_time": "2022-07-29T12:26:42.372Z"
   },
   {
    "duration": 14,
    "start_time": "2022-07-29T12:26:42.654Z"
   },
   {
    "duration": 107,
    "start_time": "2022-07-29T12:26:42.670Z"
   },
   {
    "duration": 6,
    "start_time": "2022-07-29T12:26:42.779Z"
   },
   {
    "duration": 23,
    "start_time": "2022-07-29T12:26:42.787Z"
   },
   {
    "duration": 65,
    "start_time": "2022-07-29T12:26:50.712Z"
   },
   {
    "duration": 7,
    "start_time": "2022-07-29T12:27:02.705Z"
   },
   {
    "duration": 3,
    "start_time": "2022-07-29T12:27:04.104Z"
   },
   {
    "duration": 1372,
    "start_time": "2022-07-29T12:27:29.327Z"
   },
   {
    "duration": 761,
    "start_time": "2022-07-29T12:27:47.520Z"
   },
   {
    "duration": 1135,
    "start_time": "2022-07-29T12:28:23.666Z"
   },
   {
    "duration": 643,
    "start_time": "2022-07-29T12:28:33.568Z"
   },
   {
    "duration": 1793,
    "start_time": "2022-07-29T12:28:40.704Z"
   },
   {
    "duration": 1953,
    "start_time": "2022-07-29T12:31:07.477Z"
   },
   {
    "duration": 78,
    "start_time": "2022-07-29T14:38:10.358Z"
   },
   {
    "duration": 9,
    "start_time": "2022-07-29T14:38:19.251Z"
   },
   {
    "duration": 11,
    "start_time": "2022-07-29T14:38:30.483Z"
   },
   {
    "duration": 16,
    "start_time": "2022-07-29T14:38:46.383Z"
   },
   {
    "duration": 1163,
    "start_time": "2022-07-29T14:38:58.297Z"
   },
   {
    "duration": 70,
    "start_time": "2022-07-29T14:38:59.463Z"
   },
   {
    "duration": 34,
    "start_time": "2022-07-29T14:38:59.535Z"
   },
   {
    "duration": 37,
    "start_time": "2022-07-29T14:38:59.570Z"
   },
   {
    "duration": 27,
    "start_time": "2022-07-29T14:38:59.609Z"
   },
   {
    "duration": 52,
    "start_time": "2022-07-29T14:38:59.638Z"
   },
   {
    "duration": 37,
    "start_time": "2022-07-29T14:38:59.692Z"
   },
   {
    "duration": 41,
    "start_time": "2022-07-29T14:38:59.731Z"
   },
   {
    "duration": 8,
    "start_time": "2022-07-29T14:38:59.774Z"
   },
   {
    "duration": 71,
    "start_time": "2022-07-29T14:38:59.785Z"
   },
   {
    "duration": 7,
    "start_time": "2022-07-29T14:38:59.857Z"
   },
   {
    "duration": 13,
    "start_time": "2022-07-29T14:38:59.866Z"
   },
   {
    "duration": 204,
    "start_time": "2022-07-29T14:38:59.925Z"
   },
   {
    "duration": 15,
    "start_time": "2022-07-29T14:39:00.132Z"
   },
   {
    "duration": 112,
    "start_time": "2022-07-29T14:39:00.149Z"
   },
   {
    "duration": 6,
    "start_time": "2022-07-29T14:39:00.262Z"
   },
   {
    "duration": 28,
    "start_time": "2022-07-29T14:39:00.269Z"
   },
   {
    "duration": 14,
    "start_time": "2022-07-29T14:39:00.299Z"
   },
   {
    "duration": 22,
    "start_time": "2022-07-29T14:39:00.314Z"
   },
   {
    "duration": 1887,
    "start_time": "2022-07-29T14:39:00.338Z"
   },
   {
    "duration": 2513,
    "start_time": "2022-07-29T14:39:16.989Z"
   },
   {
    "duration": 848,
    "start_time": "2022-07-29T14:39:37.233Z"
   },
   {
    "duration": 515,
    "start_time": "2022-07-29T14:40:36.713Z"
   },
   {
    "duration": 732,
    "start_time": "2022-07-29T14:40:45.828Z"
   },
   {
    "duration": 1061,
    "start_time": "2022-07-29T14:40:54.045Z"
   },
   {
    "duration": 3,
    "start_time": "2022-07-29T15:07:28.414Z"
   },
   {
    "duration": 78,
    "start_time": "2022-07-29T15:07:28.420Z"
   },
   {
    "duration": 33,
    "start_time": "2022-07-29T15:07:28.499Z"
   },
   {
    "duration": 35,
    "start_time": "2022-07-29T15:07:28.534Z"
   },
   {
    "duration": 27,
    "start_time": "2022-07-29T15:07:28.571Z"
   },
   {
    "duration": 50,
    "start_time": "2022-07-29T15:07:28.600Z"
   },
   {
    "duration": 16,
    "start_time": "2022-07-29T15:07:28.652Z"
   },
   {
    "duration": 24,
    "start_time": "2022-07-29T15:07:28.670Z"
   },
   {
    "duration": 31,
    "start_time": "2022-07-29T15:07:28.697Z"
   },
   {
    "duration": 35,
    "start_time": "2022-07-29T15:07:28.730Z"
   },
   {
    "duration": 5,
    "start_time": "2022-07-29T15:07:28.767Z"
   },
   {
    "duration": 53,
    "start_time": "2022-07-29T15:07:28.773Z"
   },
   {
    "duration": 255,
    "start_time": "2022-07-29T15:07:28.828Z"
   },
   {
    "duration": 15,
    "start_time": "2022-07-29T15:07:29.085Z"
   },
   {
    "duration": 99,
    "start_time": "2022-07-29T15:07:29.102Z"
   },
   {
    "duration": 5,
    "start_time": "2022-07-29T15:07:29.203Z"
   },
   {
    "duration": 24,
    "start_time": "2022-07-29T15:07:29.209Z"
   },
   {
    "duration": 9,
    "start_time": "2022-07-29T15:07:29.235Z"
   },
   {
    "duration": 4,
    "start_time": "2022-07-29T15:07:29.245Z"
   },
   {
    "duration": 942,
    "start_time": "2022-07-29T15:07:29.250Z"
   },
   {
    "duration": 1964,
    "start_time": "2022-07-29T15:07:37.011Z"
   },
   {
    "duration": 49,
    "start_time": "2022-07-31T07:48:35.390Z"
   },
   {
    "duration": 1118,
    "start_time": "2022-07-31T07:48:41.119Z"
   },
   {
    "duration": 165,
    "start_time": "2022-07-31T07:48:42.239Z"
   },
   {
    "duration": 61,
    "start_time": "2022-07-31T07:48:42.406Z"
   },
   {
    "duration": 115,
    "start_time": "2022-07-31T07:48:42.468Z"
   },
   {
    "duration": 52,
    "start_time": "2022-07-31T07:48:42.585Z"
   },
   {
    "duration": 52,
    "start_time": "2022-07-31T07:48:42.639Z"
   },
   {
    "duration": 18,
    "start_time": "2022-07-31T07:48:42.693Z"
   },
   {
    "duration": 21,
    "start_time": "2022-07-31T07:48:42.712Z"
   },
   {
    "duration": 5,
    "start_time": "2022-07-31T07:48:42.735Z"
   },
   {
    "duration": 81,
    "start_time": "2022-07-31T07:48:42.742Z"
   },
   {
    "duration": 6,
    "start_time": "2022-07-31T07:48:42.825Z"
   },
   {
    "duration": 10,
    "start_time": "2022-07-31T07:48:42.833Z"
   },
   {
    "duration": 220,
    "start_time": "2022-07-31T07:48:42.845Z"
   },
   {
    "duration": 17,
    "start_time": "2022-07-31T07:48:43.068Z"
   },
   {
    "duration": 107,
    "start_time": "2022-07-31T07:48:43.087Z"
   },
   {
    "duration": 9,
    "start_time": "2022-07-31T07:48:43.196Z"
   },
   {
    "duration": 17,
    "start_time": "2022-07-31T07:48:43.206Z"
   },
   {
    "duration": 7,
    "start_time": "2022-07-31T07:48:44.249Z"
   },
   {
    "duration": 103,
    "start_time": "2022-07-31T07:50:37.864Z"
   },
   {
    "duration": 77,
    "start_time": "2022-07-31T07:50:47.683Z"
   },
   {
    "duration": 22,
    "start_time": "2022-07-31T07:52:12.825Z"
   },
   {
    "duration": 3,
    "start_time": "2022-07-31T07:52:45.390Z"
   },
   {
    "duration": 72,
    "start_time": "2022-07-31T07:52:45.395Z"
   },
   {
    "duration": 33,
    "start_time": "2022-07-31T07:52:45.468Z"
   },
   {
    "duration": 38,
    "start_time": "2022-07-31T07:52:45.502Z"
   },
   {
    "duration": 30,
    "start_time": "2022-07-31T07:52:45.542Z"
   },
   {
    "duration": 51,
    "start_time": "2022-07-31T07:52:45.574Z"
   },
   {
    "duration": 15,
    "start_time": "2022-07-31T07:52:45.626Z"
   },
   {
    "duration": 29,
    "start_time": "2022-07-31T07:52:45.643Z"
   },
   {
    "duration": 5,
    "start_time": "2022-07-31T07:52:45.674Z"
   },
   {
    "duration": 34,
    "start_time": "2022-07-31T07:52:45.704Z"
   },
   {
    "duration": 6,
    "start_time": "2022-07-31T07:52:45.740Z"
   },
   {
    "duration": 12,
    "start_time": "2022-07-31T07:52:45.747Z"
   },
   {
    "duration": 232,
    "start_time": "2022-07-31T07:52:45.761Z"
   },
   {
    "duration": 22,
    "start_time": "2022-07-31T07:52:45.995Z"
   },
   {
    "duration": 109,
    "start_time": "2022-07-31T07:52:46.019Z"
   },
   {
    "duration": 7,
    "start_time": "2022-07-31T07:52:46.130Z"
   },
   {
    "duration": 17,
    "start_time": "2022-07-31T07:52:46.139Z"
   },
   {
    "duration": 20,
    "start_time": "2022-07-31T07:52:49.411Z"
   },
   {
    "duration": 6,
    "start_time": "2022-07-31T07:52:50.417Z"
   },
   {
    "duration": 10,
    "start_time": "2022-07-31T07:53:36.401Z"
   },
   {
    "duration": 10,
    "start_time": "2022-07-31T07:55:03.259Z"
   },
   {
    "duration": 44,
    "start_time": "2022-07-31T07:55:48.882Z"
   },
   {
    "duration": 190,
    "start_time": "2022-07-31T07:56:48.515Z"
   },
   {
    "duration": 15,
    "start_time": "2022-07-31T07:58:11.034Z"
   },
   {
    "duration": 11,
    "start_time": "2022-07-31T07:58:41.161Z"
   },
   {
    "duration": 4,
    "start_time": "2022-07-31T07:59:36.728Z"
   },
   {
    "duration": 19,
    "start_time": "2022-07-31T07:59:48.147Z"
   },
   {
    "duration": 461,
    "start_time": "2022-07-31T08:00:21.224Z"
   },
   {
    "duration": 68,
    "start_time": "2022-07-31T08:02:07.712Z"
   },
   {
    "duration": 4316,
    "start_time": "2022-07-31T08:02:27.858Z"
   },
   {
    "duration": 6316,
    "start_time": "2022-07-31T08:02:42.640Z"
   },
   {
    "duration": 467,
    "start_time": "2022-07-31T08:03:28.911Z"
   },
   {
    "duration": 6279,
    "start_time": "2022-07-31T08:03:49.711Z"
   },
   {
    "duration": 5301,
    "start_time": "2022-07-31T08:04:11.064Z"
   },
   {
    "duration": 6122,
    "start_time": "2022-07-31T08:04:24.056Z"
   },
   {
    "duration": 9256,
    "start_time": "2022-07-31T08:04:39.200Z"
   },
   {
    "duration": 20337,
    "start_time": "2022-07-31T08:04:53.303Z"
   },
   {
    "duration": 103,
    "start_time": "2022-07-31T08:09:24.073Z"
   },
   {
    "duration": 21,
    "start_time": "2022-07-31T08:09:33.343Z"
   },
   {
    "duration": 24,
    "start_time": "2022-07-31T08:10:28.576Z"
   },
   {
    "duration": 20,
    "start_time": "2022-07-31T08:12:17.817Z"
   },
   {
    "duration": 1311,
    "start_time": "2022-07-31T08:12:37.174Z"
   },
   {
    "duration": 78,
    "start_time": "2022-07-31T08:12:38.488Z"
   },
   {
    "duration": 36,
    "start_time": "2022-07-31T08:12:38.568Z"
   },
   {
    "duration": 40,
    "start_time": "2022-07-31T08:12:38.606Z"
   },
   {
    "duration": 30,
    "start_time": "2022-07-31T08:12:38.648Z"
   },
   {
    "duration": 54,
    "start_time": "2022-07-31T08:12:38.680Z"
   },
   {
    "duration": 16,
    "start_time": "2022-07-31T08:12:38.736Z"
   },
   {
    "duration": 20,
    "start_time": "2022-07-31T08:12:38.753Z"
   },
   {
    "duration": 30,
    "start_time": "2022-07-31T08:12:38.775Z"
   },
   {
    "duration": 36,
    "start_time": "2022-07-31T08:12:38.806Z"
   },
   {
    "duration": 7,
    "start_time": "2022-07-31T08:12:38.844Z"
   },
   {
    "duration": 56,
    "start_time": "2022-07-31T08:12:38.853Z"
   },
   {
    "duration": 261,
    "start_time": "2022-07-31T08:12:38.911Z"
   },
   {
    "duration": 17,
    "start_time": "2022-07-31T08:12:39.174Z"
   },
   {
    "duration": 113,
    "start_time": "2022-07-31T08:12:39.193Z"
   },
   {
    "duration": 5,
    "start_time": "2022-07-31T08:12:39.308Z"
   },
   {
    "duration": 18,
    "start_time": "2022-07-31T08:12:39.315Z"
   },
   {
    "duration": 22,
    "start_time": "2022-07-31T08:12:39.335Z"
   },
   {
    "duration": 9,
    "start_time": "2022-07-31T08:12:39.358Z"
   },
   {
    "duration": 69,
    "start_time": "2022-07-31T08:12:39.368Z"
   },
   {
    "duration": 511,
    "start_time": "2022-07-31T08:13:44.904Z"
   },
   {
    "duration": 21635,
    "start_time": "2022-07-31T08:14:24.011Z"
   },
   {
    "duration": 249,
    "start_time": "2022-07-31T08:17:19.563Z"
   },
   {
    "duration": 534,
    "start_time": "2022-07-31T08:18:12.690Z"
   },
   {
    "duration": 21813,
    "start_time": "2022-07-31T08:18:26.458Z"
   },
   {
    "duration": 872,
    "start_time": "2022-07-31T08:18:56.443Z"
   },
   {
    "duration": 293,
    "start_time": "2022-07-31T08:19:06.018Z"
   },
   {
    "duration": 9,
    "start_time": "2022-07-31T08:20:45.540Z"
   },
   {
    "duration": 3,
    "start_time": "2022-07-31T08:20:49.034Z"
   },
   {
    "duration": 2159,
    "start_time": "2022-07-31T08:21:44.971Z"
   },
   {
    "duration": 302,
    "start_time": "2022-07-31T08:22:36.904Z"
   },
   {
    "duration": 4468,
    "start_time": "2022-07-31T08:23:08.867Z"
   },
   {
    "duration": 1148,
    "start_time": "2022-07-31T08:23:42.638Z"
   },
   {
    "duration": 73,
    "start_time": "2022-07-31T08:23:43.788Z"
   },
   {
    "duration": 35,
    "start_time": "2022-07-31T08:23:43.863Z"
   },
   {
    "duration": 36,
    "start_time": "2022-07-31T08:23:43.900Z"
   },
   {
    "duration": 28,
    "start_time": "2022-07-31T08:23:43.938Z"
   },
   {
    "duration": 53,
    "start_time": "2022-07-31T08:23:43.968Z"
   },
   {
    "duration": 16,
    "start_time": "2022-07-31T08:23:44.023Z"
   },
   {
    "duration": 21,
    "start_time": "2022-07-31T08:23:44.041Z"
   },
   {
    "duration": 6,
    "start_time": "2022-07-31T08:23:44.063Z"
   },
   {
    "duration": 64,
    "start_time": "2022-07-31T08:23:44.071Z"
   },
   {
    "duration": 6,
    "start_time": "2022-07-31T08:23:44.136Z"
   },
   {
    "duration": 11,
    "start_time": "2022-07-31T08:23:44.144Z"
   },
   {
    "duration": 290,
    "start_time": "2022-07-31T08:23:44.157Z"
   },
   {
    "duration": 17,
    "start_time": "2022-07-31T08:23:44.448Z"
   },
   {
    "duration": 108,
    "start_time": "2022-07-31T08:23:44.467Z"
   },
   {
    "duration": 5,
    "start_time": "2022-07-31T08:23:44.576Z"
   },
   {
    "duration": 28,
    "start_time": "2022-07-31T08:23:44.582Z"
   },
   {
    "duration": 21,
    "start_time": "2022-07-31T08:23:44.611Z"
   },
   {
    "duration": 7,
    "start_time": "2022-07-31T08:23:44.634Z"
   },
   {
    "duration": 68,
    "start_time": "2022-07-31T08:23:44.643Z"
   },
   {
    "duration": 567,
    "start_time": "2022-07-31T08:23:44.713Z"
   },
   {
    "duration": 21122,
    "start_time": "2022-07-31T08:23:45.282Z"
   },
   {
    "duration": 305,
    "start_time": "2022-07-31T08:24:06.406Z"
   },
   {
    "duration": 10,
    "start_time": "2022-07-31T08:24:06.803Z"
   },
   {
    "duration": 9,
    "start_time": "2022-07-31T08:24:06.904Z"
   },
   {
    "duration": 4368,
    "start_time": "2022-07-31T08:24:06.915Z"
   },
   {
    "duration": 2247,
    "start_time": "2022-07-31T08:24:29.722Z"
   },
   {
    "duration": 2416,
    "start_time": "2022-07-31T08:24:41.017Z"
   },
   {
    "duration": 2842,
    "start_time": "2022-07-31T08:24:49.633Z"
   },
   {
    "duration": 4069,
    "start_time": "2022-07-31T08:24:58.401Z"
   },
   {
    "duration": 3665,
    "start_time": "2022-07-31T08:26:00.209Z"
   },
   {
    "duration": 3806,
    "start_time": "2022-07-31T08:26:48.762Z"
   },
   {
    "duration": 3645,
    "start_time": "2022-07-31T08:29:30.865Z"
   },
   {
    "duration": 75,
    "start_time": "2022-07-31T08:30:09.759Z"
   },
   {
    "duration": 3628,
    "start_time": "2022-07-31T08:30:20.745Z"
   },
   {
    "duration": 558,
    "start_time": "2022-07-31T08:38:00.309Z"
   },
   {
    "duration": 22216,
    "start_time": "2022-07-31T08:39:16.943Z"
   },
   {
    "duration": 4,
    "start_time": "2022-07-31T08:48:50.133Z"
   },
   {
    "duration": 5,
    "start_time": "2022-07-31T08:49:24.896Z"
   },
   {
    "duration": 3657,
    "start_time": "2022-07-31T08:50:48.396Z"
   },
   {
    "duration": 17,
    "start_time": "2022-07-31T08:51:11.022Z"
   },
   {
    "duration": 392,
    "start_time": "2022-07-31T08:51:28.212Z"
   },
   {
    "duration": 150,
    "start_time": "2022-07-31T08:51:32.614Z"
   },
   {
    "duration": 5,
    "start_time": "2022-07-31T08:53:51.180Z"
   },
   {
    "duration": 1555,
    "start_time": "2022-07-31T08:53:56.887Z"
   },
   {
    "duration": 71,
    "start_time": "2022-07-31T08:53:58.444Z"
   },
   {
    "duration": 34,
    "start_time": "2022-07-31T08:53:58.516Z"
   },
   {
    "duration": 39,
    "start_time": "2022-07-31T08:53:58.552Z"
   },
   {
    "duration": 45,
    "start_time": "2022-07-31T08:53:58.594Z"
   },
   {
    "duration": 63,
    "start_time": "2022-07-31T08:53:58.641Z"
   },
   {
    "duration": 18,
    "start_time": "2022-07-31T08:53:58.706Z"
   },
   {
    "duration": 23,
    "start_time": "2022-07-31T08:53:58.726Z"
   },
   {
    "duration": 6,
    "start_time": "2022-07-31T08:53:58.751Z"
   },
   {
    "duration": 84,
    "start_time": "2022-07-31T08:53:58.759Z"
   },
   {
    "duration": 6,
    "start_time": "2022-07-31T08:53:58.844Z"
   },
   {
    "duration": 11,
    "start_time": "2022-07-31T08:53:58.851Z"
   },
   {
    "duration": 202,
    "start_time": "2022-07-31T08:53:58.905Z"
   },
   {
    "duration": 17,
    "start_time": "2022-07-31T08:53:59.110Z"
   },
   {
    "duration": 122,
    "start_time": "2022-07-31T08:53:59.129Z"
   },
   {
    "duration": 4,
    "start_time": "2022-07-31T08:53:59.253Z"
   },
   {
    "duration": 17,
    "start_time": "2022-07-31T08:53:59.259Z"
   },
   {
    "duration": 37,
    "start_time": "2022-07-31T08:53:59.278Z"
   },
   {
    "duration": 8,
    "start_time": "2022-07-31T08:53:59.318Z"
   },
   {
    "duration": 50,
    "start_time": "2022-07-31T08:53:59.328Z"
   },
   {
    "duration": 644,
    "start_time": "2022-07-31T08:53:59.404Z"
   },
   {
    "duration": 22752,
    "start_time": "2022-07-31T08:54:00.050Z"
   },
   {
    "duration": 211,
    "start_time": "2022-07-31T08:54:22.805Z"
   },
   {
    "duration": 187,
    "start_time": "2022-07-31T08:54:23.017Z"
   },
   {
    "duration": 12,
    "start_time": "2022-07-31T08:54:23.206Z"
   },
   {
    "duration": 3932,
    "start_time": "2022-07-31T08:54:23.221Z"
   },
   {
    "duration": 134,
    "start_time": "2022-07-31T08:54:27.155Z"
   },
   {
    "duration": 1936,
    "start_time": "2022-08-01T06:50:46.807Z"
   },
   {
    "duration": 157,
    "start_time": "2022-08-01T06:50:53.390Z"
   },
   {
    "duration": 62,
    "start_time": "2022-08-01T06:50:53.907Z"
   },
   {
    "duration": 137,
    "start_time": "2022-08-01T06:50:54.447Z"
   },
   {
    "duration": 66,
    "start_time": "2022-08-01T06:50:55.010Z"
   },
   {
    "duration": 61,
    "start_time": "2022-08-01T06:52:20.775Z"
   },
   {
    "duration": 17,
    "start_time": "2022-08-01T06:52:41.961Z"
   },
   {
    "duration": 22,
    "start_time": "2022-08-01T06:52:42.864Z"
   },
   {
    "duration": 6,
    "start_time": "2022-08-01T06:53:01.180Z"
   },
   {
    "duration": 31,
    "start_time": "2022-08-01T06:53:02.148Z"
   },
   {
    "duration": 7,
    "start_time": "2022-08-01T06:53:06.590Z"
   },
   {
    "duration": 10,
    "start_time": "2022-08-01T06:53:08.699Z"
   },
   {
    "duration": 156,
    "start_time": "2022-08-01T06:54:22.739Z"
   },
   {
    "duration": 204,
    "start_time": "2022-08-01T06:54:27.380Z"
   },
   {
    "duration": 19,
    "start_time": "2022-08-01T06:54:30.200Z"
   },
   {
    "duration": 85,
    "start_time": "2022-08-01T06:54:33.280Z"
   },
   {
    "duration": 6,
    "start_time": "2022-08-01T06:54:50.629Z"
   },
   {
    "duration": 22,
    "start_time": "2022-08-01T06:55:53.313Z"
   },
   {
    "duration": 9,
    "start_time": "2022-08-01T06:56:13.602Z"
   },
   {
    "duration": 41,
    "start_time": "2022-08-01T06:56:29.668Z"
   },
   {
    "duration": 1784,
    "start_time": "2022-08-01T08:24:28.484Z"
   },
   {
    "duration": 187,
    "start_time": "2022-08-01T08:24:30.270Z"
   },
   {
    "duration": 74,
    "start_time": "2022-08-01T08:24:30.459Z"
   },
   {
    "duration": 225,
    "start_time": "2022-08-01T08:24:30.536Z"
   },
   {
    "duration": 67,
    "start_time": "2022-08-01T08:24:30.763Z"
   },
   {
    "duration": 54,
    "start_time": "2022-08-01T08:24:30.831Z"
   },
   {
    "duration": 31,
    "start_time": "2022-08-01T08:24:30.887Z"
   },
   {
    "duration": 21,
    "start_time": "2022-08-01T08:24:30.920Z"
   },
   {
    "duration": 7,
    "start_time": "2022-08-01T08:24:30.943Z"
   },
   {
    "duration": 78,
    "start_time": "2022-08-01T08:24:30.953Z"
   },
   {
    "duration": 5,
    "start_time": "2022-08-01T08:24:31.033Z"
   },
   {
    "duration": 34,
    "start_time": "2022-08-01T08:24:31.040Z"
   },
   {
    "duration": 220,
    "start_time": "2022-08-01T08:24:31.075Z"
   },
   {
    "duration": 26,
    "start_time": "2022-08-01T08:24:31.296Z"
   },
   {
    "duration": 110,
    "start_time": "2022-08-01T08:24:31.324Z"
   },
   {
    "duration": 6,
    "start_time": "2022-08-01T08:24:31.435Z"
   },
   {
    "duration": 18,
    "start_time": "2022-08-01T08:24:31.442Z"
   },
   {
    "duration": 50,
    "start_time": "2022-08-01T08:24:31.462Z"
   },
   {
    "duration": 14,
    "start_time": "2022-08-01T08:24:33.516Z"
   },
   {
    "duration": 69,
    "start_time": "2022-08-01T08:25:15.070Z"
   },
   {
    "duration": 118,
    "start_time": "2022-08-01T08:26:34.888Z"
   },
   {
    "duration": 451,
    "start_time": "2022-08-01T08:26:58.275Z"
   },
   {
    "duration": 26,
    "start_time": "2022-08-01T08:31:07.085Z"
   },
   {
    "duration": 19772,
    "start_time": "2022-08-01T08:32:30.951Z"
   },
   {
    "duration": 1188,
    "start_time": "2022-08-01T08:35:37.062Z"
   },
   {
    "duration": 1236,
    "start_time": "2022-08-01T08:37:35.602Z"
   },
   {
    "duration": 666,
    "start_time": "2022-08-01T08:40:21.358Z"
   },
   {
    "duration": 448,
    "start_time": "2022-08-01T08:41:11.360Z"
   },
   {
    "duration": 14,
    "start_time": "2022-08-01T08:47:35.548Z"
   },
   {
    "duration": 3,
    "start_time": "2022-08-01T08:47:41.642Z"
   },
   {
    "duration": 4220,
    "start_time": "2022-08-01T08:49:00.550Z"
   },
   {
    "duration": 2866,
    "start_time": "2022-08-01T08:49:22.364Z"
   },
   {
    "duration": 4303,
    "start_time": "2022-08-01T08:50:06.482Z"
   },
   {
    "duration": 5451,
    "start_time": "2022-08-01T08:50:17.529Z"
   },
   {
    "duration": 6291,
    "start_time": "2022-08-01T08:50:30.999Z"
   },
   {
    "duration": 1483,
    "start_time": "2022-08-01T08:50:45.401Z"
   },
   {
    "duration": 2213,
    "start_time": "2022-08-01T08:50:51.829Z"
   },
   {
    "duration": 3175,
    "start_time": "2022-08-01T08:50:59.870Z"
   },
   {
    "duration": 3808,
    "start_time": "2022-08-01T08:51:09.044Z"
   },
   {
    "duration": 4917,
    "start_time": "2022-08-01T08:51:29.751Z"
   },
   {
    "duration": 4728,
    "start_time": "2022-08-01T08:52:06.870Z"
   },
   {
    "duration": 5494,
    "start_time": "2022-08-01T08:52:27.107Z"
   },
   {
    "duration": 4390,
    "start_time": "2022-08-01T08:52:42.292Z"
   },
   {
    "duration": 162,
    "start_time": "2022-08-01T08:55:08.053Z"
   },
   {
    "duration": 297,
    "start_time": "2022-08-01T09:19:52.236Z"
   },
   {
    "duration": 2020,
    "start_time": "2022-08-01T09:21:46.330Z"
   },
   {
    "duration": 51,
    "start_time": "2022-08-01T09:22:18.993Z"
   },
   {
    "duration": 13,
    "start_time": "2022-08-01T09:22:52.842Z"
   },
   {
    "duration": 481,
    "start_time": "2022-08-01T09:26:31.731Z"
   },
   {
    "duration": 421,
    "start_time": "2022-08-01T09:26:47.543Z"
   },
   {
    "duration": 375,
    "start_time": "2022-08-01T09:26:56.077Z"
   },
   {
    "duration": 1574,
    "start_time": "2022-08-01T09:40:58.058Z"
   },
   {
    "duration": 86,
    "start_time": "2022-08-01T09:40:59.634Z"
   },
   {
    "duration": 37,
    "start_time": "2022-08-01T09:40:59.722Z"
   },
   {
    "duration": 40,
    "start_time": "2022-08-01T09:40:59.761Z"
   },
   {
    "duration": 38,
    "start_time": "2022-08-01T09:40:59.803Z"
   },
   {
    "duration": 56,
    "start_time": "2022-08-01T09:40:59.843Z"
   },
   {
    "duration": 24,
    "start_time": "2022-08-01T09:40:59.910Z"
   },
   {
    "duration": 21,
    "start_time": "2022-08-01T09:40:59.936Z"
   },
   {
    "duration": 6,
    "start_time": "2022-08-01T09:40:59.958Z"
   },
   {
    "duration": 79,
    "start_time": "2022-08-01T09:40:59.967Z"
   },
   {
    "duration": 9,
    "start_time": "2022-08-01T09:41:00.048Z"
   },
   {
    "duration": 16,
    "start_time": "2022-08-01T09:41:00.058Z"
   },
   {
    "duration": 304,
    "start_time": "2022-08-01T09:41:00.076Z"
   },
   {
    "duration": 32,
    "start_time": "2022-08-01T09:41:00.382Z"
   },
   {
    "duration": 130,
    "start_time": "2022-08-01T09:41:00.416Z"
   },
   {
    "duration": 6,
    "start_time": "2022-08-01T09:41:00.548Z"
   },
   {
    "duration": 18,
    "start_time": "2022-08-01T09:41:00.556Z"
   },
   {
    "duration": 49,
    "start_time": "2022-08-01T09:41:00.576Z"
   },
   {
    "duration": 21,
    "start_time": "2022-08-01T09:41:00.627Z"
   },
   {
    "duration": 89,
    "start_time": "2022-08-01T09:41:00.651Z"
   },
   {
    "duration": 550,
    "start_time": "2022-08-01T09:41:00.743Z"
   },
   {
    "duration": 37,
    "start_time": "2022-08-01T09:41:01.306Z"
   },
   {
    "duration": 20569,
    "start_time": "2022-08-01T09:41:01.346Z"
   },
   {
    "duration": 1280,
    "start_time": "2022-08-01T09:41:21.921Z"
   },
   {
    "duration": 520,
    "start_time": "2022-08-01T09:41:23.207Z"
   },
   {
    "duration": 1097,
    "start_time": "2022-08-01T09:41:23.729Z"
   },
   {
    "duration": 176,
    "start_time": "2022-08-01T09:41:24.834Z"
   },
   {
    "duration": 17,
    "start_time": "2022-08-01T09:41:25.015Z"
   },
   {
    "duration": 4180,
    "start_time": "2022-08-01T09:41:25.034Z"
   },
   {
    "duration": 4171,
    "start_time": "2022-08-01T09:41:29.216Z"
   },
   {
    "duration": 157,
    "start_time": "2022-08-01T09:41:33.389Z"
   },
   {
    "duration": 392,
    "start_time": "2022-08-01T09:41:33.550Z"
   }
  ],
  "kernelspec": {
   "display_name": "Python 3 (ipykernel)",
   "language": "python",
   "name": "python3"
  },
  "language_info": {
   "codemirror_mode": {
    "name": "ipython",
    "version": 3
   },
   "file_extension": ".py",
   "mimetype": "text/x-python",
   "name": "python",
   "nbconvert_exporter": "python",
   "pygments_lexer": "ipython3",
   "version": "3.9.5"
  },
  "toc": {
   "base_numbering": 1,
   "nav_menu": {},
   "number_sections": true,
   "sideBar": true,
   "skip_h1_title": true,
   "title_cell": "Table of Contents",
   "title_sidebar": "Contents",
   "toc_cell": false,
   "toc_position": {},
   "toc_section_display": true,
   "toc_window_display": false
  }
 },
 "nbformat": 4,
 "nbformat_minor": 2
}
